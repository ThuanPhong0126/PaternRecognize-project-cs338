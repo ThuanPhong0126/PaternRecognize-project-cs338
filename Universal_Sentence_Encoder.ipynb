{
  "nbformat": 4,
  "nbformat_minor": 0,
  "metadata": {
    "accelerator": "GPU",
    "colab": {
      "name": "Universal_Sentence_Encoder.ipynb",
      "provenance": [],
      "collapsed_sections": [],
      "machine_shape": "hm",
      "include_colab_link": true
    },
    "kernelspec": {
      "display_name": "Python 3",
      "name": "python3"
    },
    "language_info": {
      "name": "python"
    }
  },
  "cells": [
    {
      "cell_type": "markdown",
      "metadata": {
        "id": "view-in-github",
        "colab_type": "text"
      },
      "source": [
        "<a href=\"https://colab.research.google.com/github/ThuanPhong0126/PaternRecognize-project-cs338/blob/main/Universal_Sentence_Encoder.ipynb\" target=\"_parent\"><img src=\"https://colab.research.google.com/assets/colab-badge.svg\" alt=\"Open In Colab\"/></a>"
      ]
    },
    {
      "cell_type": "code",
      "metadata": {
        "colab": {
          "base_uri": "https://localhost:8080/"
        },
        "id": "z_A8KvE20wQB",
        "outputId": "b30c2ab2-4257-428b-b988-8d15755eb9a6"
      },
      "source": [
        "from google.colab import drive\n",
        "drive.mount(\"/content/gdrive\")"
      ],
      "execution_count": null,
      "outputs": [
        {
          "output_type": "stream",
          "text": [
            "Mounted at /content/gdrive\n"
          ],
          "name": "stdout"
        }
      ]
    },
    {
      "cell_type": "code",
      "metadata": {
        "colab": {
          "base_uri": "https://localhost:8080/"
        },
        "id": "dGz51WMj0-u4",
        "outputId": "f62bed51-2487-46ac-f6b7-48ec7e62ea2a"
      },
      "source": [
        "cd /content/gdrive/MyDrive/[]Nhan Dang/Question-Similarity"
      ],
      "execution_count": null,
      "outputs": [
        {
          "output_type": "stream",
          "text": [
            "/content/gdrive/MyDrive/[]Nhan Dang/Question-Similarity\n"
          ],
          "name": "stdout"
        }
      ]
    },
    {
      "cell_type": "code",
      "metadata": {
        "colab": {
          "base_uri": "https://localhost:8080/"
        },
        "id": "2_uFvtKHatC5",
        "outputId": "02c91511-f84f-4890-be83-e015a227ac57"
      },
      "source": [
        "!pip install --upgrade tensorflow-gpu\n",
        "# Install TF-Hub.\n",
        "!pip install tensorflow-hub"
      ],
      "execution_count": null,
      "outputs": [
        {
          "output_type": "stream",
          "text": [
            "Collecting tensorflow-gpu\n",
            "\u001b[?25l  Downloading https://files.pythonhosted.org/packages/1d/a2/5ccf0a418eb22e0a2ae9edc1e7f5456d0a4b8b49524572897564b4030a9b/tensorflow_gpu-2.5.0-cp37-cp37m-manylinux2010_x86_64.whl (454.3MB)\n",
            "\u001b[K     |████████████████████████████████| 454.3MB 36kB/s \n",
            "\u001b[?25hRequirement already satisfied, skipping upgrade: wheel~=0.35 in /usr/local/lib/python3.7/dist-packages (from tensorflow-gpu) (0.36.2)\n",
            "Requirement already satisfied, skipping upgrade: flatbuffers~=1.12.0 in /usr/local/lib/python3.7/dist-packages (from tensorflow-gpu) (1.12)\n",
            "Requirement already satisfied, skipping upgrade: google-pasta~=0.2 in /usr/local/lib/python3.7/dist-packages (from tensorflow-gpu) (0.2.0)\n",
            "Requirement already satisfied, skipping upgrade: keras-nightly~=2.5.0.dev in /usr/local/lib/python3.7/dist-packages (from tensorflow-gpu) (2.5.0.dev2021032900)\n",
            "Requirement already satisfied, skipping upgrade: six~=1.15.0 in /usr/local/lib/python3.7/dist-packages (from tensorflow-gpu) (1.15.0)\n",
            "Requirement already satisfied, skipping upgrade: numpy~=1.19.2 in /usr/local/lib/python3.7/dist-packages (from tensorflow-gpu) (1.19.5)\n",
            "Requirement already satisfied, skipping upgrade: h5py~=3.1.0 in /usr/local/lib/python3.7/dist-packages (from tensorflow-gpu) (3.1.0)\n",
            "Requirement already satisfied, skipping upgrade: wrapt~=1.12.1 in /usr/local/lib/python3.7/dist-packages (from tensorflow-gpu) (1.12.1)\n",
            "Requirement already satisfied, skipping upgrade: opt-einsum~=3.3.0 in /usr/local/lib/python3.7/dist-packages (from tensorflow-gpu) (3.3.0)\n",
            "Requirement already satisfied, skipping upgrade: gast==0.4.0 in /usr/local/lib/python3.7/dist-packages (from tensorflow-gpu) (0.4.0)\n",
            "Requirement already satisfied, skipping upgrade: absl-py~=0.10 in /usr/local/lib/python3.7/dist-packages (from tensorflow-gpu) (0.12.0)\n",
            "Requirement already satisfied, skipping upgrade: keras-preprocessing~=1.1.2 in /usr/local/lib/python3.7/dist-packages (from tensorflow-gpu) (1.1.2)\n",
            "Requirement already satisfied, skipping upgrade: tensorboard~=2.5 in /usr/local/lib/python3.7/dist-packages (from tensorflow-gpu) (2.5.0)\n",
            "Requirement already satisfied, skipping upgrade: astunparse~=1.6.3 in /usr/local/lib/python3.7/dist-packages (from tensorflow-gpu) (1.6.3)\n",
            "Requirement already satisfied, skipping upgrade: termcolor~=1.1.0 in /usr/local/lib/python3.7/dist-packages (from tensorflow-gpu) (1.1.0)\n",
            "Requirement already satisfied, skipping upgrade: protobuf>=3.9.2 in /usr/local/lib/python3.7/dist-packages (from tensorflow-gpu) (3.17.3)\n",
            "Requirement already satisfied, skipping upgrade: tensorflow-estimator<2.6.0,>=2.5.0rc0 in /usr/local/lib/python3.7/dist-packages (from tensorflow-gpu) (2.5.0)\n",
            "Requirement already satisfied, skipping upgrade: grpcio~=1.34.0 in /usr/local/lib/python3.7/dist-packages (from tensorflow-gpu) (1.34.1)\n",
            "Requirement already satisfied, skipping upgrade: typing-extensions~=3.7.4 in /usr/local/lib/python3.7/dist-packages (from tensorflow-gpu) (3.7.4.3)\n",
            "Requirement already satisfied, skipping upgrade: cached-property; python_version < \"3.8\" in /usr/local/lib/python3.7/dist-packages (from h5py~=3.1.0->tensorflow-gpu) (1.5.2)\n",
            "Requirement already satisfied, skipping upgrade: werkzeug>=0.11.15 in /usr/local/lib/python3.7/dist-packages (from tensorboard~=2.5->tensorflow-gpu) (1.0.1)\n",
            "Requirement already satisfied, skipping upgrade: setuptools>=41.0.0 in /usr/local/lib/python3.7/dist-packages (from tensorboard~=2.5->tensorflow-gpu) (57.0.0)\n",
            "Requirement already satisfied, skipping upgrade: tensorboard-data-server<0.7.0,>=0.6.0 in /usr/local/lib/python3.7/dist-packages (from tensorboard~=2.5->tensorflow-gpu) (0.6.1)\n",
            "Requirement already satisfied, skipping upgrade: google-auth<2,>=1.6.3 in /usr/local/lib/python3.7/dist-packages (from tensorboard~=2.5->tensorflow-gpu) (1.32.1)\n",
            "Requirement already satisfied, skipping upgrade: google-auth-oauthlib<0.5,>=0.4.1 in /usr/local/lib/python3.7/dist-packages (from tensorboard~=2.5->tensorflow-gpu) (0.4.4)\n",
            "Requirement already satisfied, skipping upgrade: markdown>=2.6.8 in /usr/local/lib/python3.7/dist-packages (from tensorboard~=2.5->tensorflow-gpu) (3.3.4)\n",
            "Requirement already satisfied, skipping upgrade: tensorboard-plugin-wit>=1.6.0 in /usr/local/lib/python3.7/dist-packages (from tensorboard~=2.5->tensorflow-gpu) (1.8.0)\n",
            "Requirement already satisfied, skipping upgrade: requests<3,>=2.21.0 in /usr/local/lib/python3.7/dist-packages (from tensorboard~=2.5->tensorflow-gpu) (2.23.0)\n",
            "Requirement already satisfied, skipping upgrade: pyasn1-modules>=0.2.1 in /usr/local/lib/python3.7/dist-packages (from google-auth<2,>=1.6.3->tensorboard~=2.5->tensorflow-gpu) (0.2.8)\n",
            "Requirement already satisfied, skipping upgrade: cachetools<5.0,>=2.0.0 in /usr/local/lib/python3.7/dist-packages (from google-auth<2,>=1.6.3->tensorboard~=2.5->tensorflow-gpu) (4.2.2)\n",
            "Requirement already satisfied, skipping upgrade: rsa<5,>=3.1.4; python_version >= \"3.6\" in /usr/local/lib/python3.7/dist-packages (from google-auth<2,>=1.6.3->tensorboard~=2.5->tensorflow-gpu) (4.7.2)\n",
            "Requirement already satisfied, skipping upgrade: requests-oauthlib>=0.7.0 in /usr/local/lib/python3.7/dist-packages (from google-auth-oauthlib<0.5,>=0.4.1->tensorboard~=2.5->tensorflow-gpu) (1.3.0)\n",
            "Requirement already satisfied, skipping upgrade: importlib-metadata; python_version < \"3.8\" in /usr/local/lib/python3.7/dist-packages (from markdown>=2.6.8->tensorboard~=2.5->tensorflow-gpu) (4.6.0)\n",
            "Requirement already satisfied, skipping upgrade: chardet<4,>=3.0.2 in /usr/local/lib/python3.7/dist-packages (from requests<3,>=2.21.0->tensorboard~=2.5->tensorflow-gpu) (3.0.4)\n",
            "Requirement already satisfied, skipping upgrade: idna<3,>=2.5 in /usr/local/lib/python3.7/dist-packages (from requests<3,>=2.21.0->tensorboard~=2.5->tensorflow-gpu) (2.10)\n",
            "Requirement already satisfied, skipping upgrade: urllib3!=1.25.0,!=1.25.1,<1.26,>=1.21.1 in /usr/local/lib/python3.7/dist-packages (from requests<3,>=2.21.0->tensorboard~=2.5->tensorflow-gpu) (1.24.3)\n",
            "Requirement already satisfied, skipping upgrade: certifi>=2017.4.17 in /usr/local/lib/python3.7/dist-packages (from requests<3,>=2.21.0->tensorboard~=2.5->tensorflow-gpu) (2021.5.30)\n",
            "Requirement already satisfied, skipping upgrade: pyasn1<0.5.0,>=0.4.6 in /usr/local/lib/python3.7/dist-packages (from pyasn1-modules>=0.2.1->google-auth<2,>=1.6.3->tensorboard~=2.5->tensorflow-gpu) (0.4.8)\n",
            "Requirement already satisfied, skipping upgrade: oauthlib>=3.0.0 in /usr/local/lib/python3.7/dist-packages (from requests-oauthlib>=0.7.0->google-auth-oauthlib<0.5,>=0.4.1->tensorboard~=2.5->tensorflow-gpu) (3.1.1)\n",
            "Requirement already satisfied, skipping upgrade: zipp>=0.5 in /usr/local/lib/python3.7/dist-packages (from importlib-metadata; python_version < \"3.8\"->markdown>=2.6.8->tensorboard~=2.5->tensorflow-gpu) (3.4.1)\n",
            "Installing collected packages: tensorflow-gpu\n",
            "Successfully installed tensorflow-gpu-2.5.0\n",
            "Requirement already satisfied: tensorflow-hub in /usr/local/lib/python3.7/dist-packages (0.12.0)\n",
            "Requirement already satisfied: protobuf>=3.8.0 in /usr/local/lib/python3.7/dist-packages (from tensorflow-hub) (3.17.3)\n",
            "Requirement already satisfied: numpy>=1.12.0 in /usr/local/lib/python3.7/dist-packages (from tensorflow-hub) (1.19.5)\n",
            "Requirement already satisfied: six>=1.9 in /usr/local/lib/python3.7/dist-packages (from protobuf>=3.8.0->tensorflow-hub) (1.15.0)\n"
          ],
          "name": "stdout"
        }
      ]
    },
    {
      "cell_type": "code",
      "metadata": {
        "id": "2Ylz0thf1MPV"
      },
      "source": [
        "import tensorflow as tf\n",
        "import tensorflow_hub as hub\n",
        "import numpy as np"
      ],
      "execution_count": null,
      "outputs": []
    },
    {
      "cell_type": "code",
      "metadata": {
        "colab": {
          "base_uri": "https://localhost:8080/"
        },
        "id": "iBHhu-q3bhau",
        "outputId": "222de202-bd65-4113-d675-6584386b512a"
      },
      "source": [
        "import nltk\n",
        "nltk.download('punkt')\n",
        "from nltk.tokenize import word_tokenize\n",
        "import numpy as np"
      ],
      "execution_count": null,
      "outputs": [
        {
          "output_type": "stream",
          "text": [
            "[nltk_data] Downloading package punkt to /root/nltk_data...\n",
            "[nltk_data]   Unzipping tokenizers/punkt.zip.\n"
          ],
          "name": "stdout"
        }
      ]
    },
    {
      "cell_type": "code",
      "metadata": {
        "id": "-10-Ytr41O8-"
      },
      "source": [
        "import pandas as pd"
      ],
      "execution_count": null,
      "outputs": []
    },
    {
      "cell_type": "code",
      "metadata": {
        "id": "wMRUFAd3k64S"
      },
      "source": [
        "dev = pd.read_csv(\"/content/gdrive/MyDrive/[]Nhan Dang/Question-Similarity/Quora dataset/dev.csv\")\n",
        "test = pd.read_csv(\"/content/gdrive/MyDrive/[]Nhan Dang/Question-Similarity/Quora dataset/test.csv\")"
      ],
      "execution_count": null,
      "outputs": []
    },
    {
      "cell_type": "code",
      "metadata": {
        "colab": {
          "base_uri": "https://localhost:8080/",
          "height": 595
        },
        "id": "vHhCCDmA1Rm3",
        "outputId": "8e95a03d-7f1f-4ed1-c4a9-bf05bac33945"
      },
      "source": [
        "train = pd.read_csv(\"/content/gdrive/MyDrive/[]Nhan Dang/Question-Similarity/Quora dataset/train.csv\")\n",
        "train['question1'] = train['question1'].apply(lambda x: str(x))\n",
        "train['question2'] = train['question2'].apply(lambda x: str(x))\n",
        "train"
      ],
      "execution_count": null,
      "outputs": [
        {
          "output_type": "execute_result",
          "data": {
            "text/html": [
              "<div>\n",
              "<style scoped>\n",
              "    .dataframe tbody tr th:only-of-type {\n",
              "        vertical-align: middle;\n",
              "    }\n",
              "\n",
              "    .dataframe tbody tr th {\n",
              "        vertical-align: top;\n",
              "    }\n",
              "\n",
              "    .dataframe thead th {\n",
              "        text-align: right;\n",
              "    }\n",
              "</style>\n",
              "<table border=\"1\" class=\"dataframe\">\n",
              "  <thead>\n",
              "    <tr style=\"text-align: right;\">\n",
              "      <th></th>\n",
              "      <th>id</th>\n",
              "      <th>qid1</th>\n",
              "      <th>qid2</th>\n",
              "      <th>question1</th>\n",
              "      <th>question2</th>\n",
              "      <th>is_duplicate</th>\n",
              "    </tr>\n",
              "  </thead>\n",
              "  <tbody>\n",
              "    <tr>\n",
              "      <th>0</th>\n",
              "      <td>1</td>\n",
              "      <td>3</td>\n",
              "      <td>4</td>\n",
              "      <td>What is the story of Kohinoor (Koh-i-Noor) Dia...</td>\n",
              "      <td>What would happen if the Indian government sto...</td>\n",
              "      <td>0</td>\n",
              "    </tr>\n",
              "    <tr>\n",
              "      <th>1</th>\n",
              "      <td>2</td>\n",
              "      <td>5</td>\n",
              "      <td>6</td>\n",
              "      <td>How can I increase the speed of my internet co...</td>\n",
              "      <td>How can Internet speed be increased by hacking...</td>\n",
              "      <td>0</td>\n",
              "    </tr>\n",
              "    <tr>\n",
              "      <th>2</th>\n",
              "      <td>4</td>\n",
              "      <td>9</td>\n",
              "      <td>10</td>\n",
              "      <td>Which one dissolve in water quikly sugar, salt...</td>\n",
              "      <td>Which fish would survive in salt water?</td>\n",
              "      <td>0</td>\n",
              "    </tr>\n",
              "    <tr>\n",
              "      <th>3</th>\n",
              "      <td>5</td>\n",
              "      <td>11</td>\n",
              "      <td>12</td>\n",
              "      <td>Astrology: I am a Capricorn Sun Cap moon and c...</td>\n",
              "      <td>I'm a triple Capricorn (Sun, Moon and ascendan...</td>\n",
              "      <td>1</td>\n",
              "    </tr>\n",
              "    <tr>\n",
              "      <th>4</th>\n",
              "      <td>8</td>\n",
              "      <td>17</td>\n",
              "      <td>18</td>\n",
              "      <td>When do you use シ instead of し?</td>\n",
              "      <td>When do you use \"&amp;\" instead of \"and\"?</td>\n",
              "      <td>0</td>\n",
              "    </tr>\n",
              "    <tr>\n",
              "      <th>...</th>\n",
              "      <td>...</td>\n",
              "      <td>...</td>\n",
              "      <td>...</td>\n",
              "      <td>...</td>\n",
              "      <td>...</td>\n",
              "      <td>...</td>\n",
              "    </tr>\n",
              "    <tr>\n",
              "      <th>244285</th>\n",
              "      <td>404284</td>\n",
              "      <td>537926</td>\n",
              "      <td>537927</td>\n",
              "      <td>What does Jainism say about homosexuality?</td>\n",
              "      <td>What does Jainism say about Gays and Homosexua...</td>\n",
              "      <td>1</td>\n",
              "    </tr>\n",
              "    <tr>\n",
              "      <th>244286</th>\n",
              "      <td>404285</td>\n",
              "      <td>433578</td>\n",
              "      <td>379845</td>\n",
              "      <td>How many keywords are there in the Racket prog...</td>\n",
              "      <td>How many keywords are there in PERL Programmin...</td>\n",
              "      <td>0</td>\n",
              "    </tr>\n",
              "    <tr>\n",
              "      <th>244287</th>\n",
              "      <td>404286</td>\n",
              "      <td>18840</td>\n",
              "      <td>155606</td>\n",
              "      <td>Do you believe there is life after death?</td>\n",
              "      <td>Is it true that there is life after death?</td>\n",
              "      <td>1</td>\n",
              "    </tr>\n",
              "    <tr>\n",
              "      <th>244288</th>\n",
              "      <td>404288</td>\n",
              "      <td>537930</td>\n",
              "      <td>537931</td>\n",
              "      <td>What is the approx annual cost of living while...</td>\n",
              "      <td>I am having little hairfall problem but I want...</td>\n",
              "      <td>0</td>\n",
              "    </tr>\n",
              "    <tr>\n",
              "      <th>244289</th>\n",
              "      <td>404289</td>\n",
              "      <td>537932</td>\n",
              "      <td>537933</td>\n",
              "      <td>What is like to have sex with cousin?</td>\n",
              "      <td>What is it like to have sex with your cousin?</td>\n",
              "      <td>0</td>\n",
              "    </tr>\n",
              "  </tbody>\n",
              "</table>\n",
              "<p>244290 rows × 6 columns</p>\n",
              "</div>"
            ],
            "text/plain": [
              "            id  ...  is_duplicate\n",
              "0            1  ...             0\n",
              "1            2  ...             0\n",
              "2            4  ...             0\n",
              "3            5  ...             1\n",
              "4            8  ...             0\n",
              "...        ...  ...           ...\n",
              "244285  404284  ...             1\n",
              "244286  404285  ...             0\n",
              "244287  404286  ...             1\n",
              "244288  404288  ...             0\n",
              "244289  404289  ...             0\n",
              "\n",
              "[244290 rows x 6 columns]"
            ]
          },
          "metadata": {
            "tags": []
          },
          "execution_count": 40
        }
      ]
    },
    {
      "cell_type": "code",
      "metadata": {
        "id": "0nwItb9c1TD4"
      },
      "source": [
        "sentences = list(train.question1) + list(train.question2)"
      ],
      "execution_count": null,
      "outputs": []
    },
    {
      "cell_type": "code",
      "metadata": {
        "id": "22p58OQn1W03"
      },
      "source": [
        "# Tokenization of each document\n",
        "tokenized_sent = []\n",
        "for s in sentences:\n",
        "    s = str(s)\n",
        "    tokenized_sent.append(word_tokenize(s.lower()))"
      ],
      "execution_count": null,
      "outputs": []
    },
    {
      "cell_type": "code",
      "metadata": {
        "id": "QWEPLqed1Ykn"
      },
      "source": [
        "def cosine(u, v):\n",
        "    return np.dot(u, v) / (np.linalg.norm(u) * np.linalg.norm(v))"
      ],
      "execution_count": null,
      "outputs": []
    },
    {
      "cell_type": "code",
      "metadata": {
        "colab": {
          "base_uri": "https://localhost:8080/"
        },
        "id": "DivbrrnX1aj_",
        "outputId": "ddf320e0-8f1c-45a3-c43f-ba563a5fd8c7"
      },
      "source": [
        "module_url = \"https://tfhub.dev/google/universal-sentence-encoder/4\" \n",
        "model = hub.load(module_url)\n",
        "print(\"module %s loaded\" % module_url)"
      ],
      "execution_count": null,
      "outputs": [
        {
          "output_type": "stream",
          "text": [
            "module https://tfhub.dev/google/universal-sentence-encoder/4 loaded\n"
          ],
          "name": "stdout"
        }
      ]
    },
    {
      "cell_type": "code",
      "metadata": {
        "id": "cn15DUgk6E28"
      },
      "source": [
        "sentence_embeddings = model(sentences)"
      ],
      "execution_count": null,
      "outputs": []
    },
    {
      "cell_type": "code",
      "metadata": {
        "id": "UIvK1qW-cfiG",
        "colab": {
          "base_uri": "https://localhost:8080/"
        },
        "outputId": "522956e4-b57b-4d6d-b1be-94c184cbffe0"
      },
      "source": [
        "query = \"I had pizza and pasta\"\n",
        "query_vec = model([query])[0]\n",
        "query_vec"
      ],
      "execution_count": null,
      "outputs": [
        {
          "output_type": "execute_result",
          "data": {
            "text/plain": [
              "<tf.Tensor: shape=(512,), dtype=float32, numpy=\n",
              "array([-1.15908217e-02,  3.46413106e-02,  3.25885043e-02, -7.45856762e-03,\n",
              "        1.40431551e-02,  6.57194778e-02,  3.63640189e-02,  2.34396243e-03,\n",
              "       -2.63422206e-02,  4.08958718e-02, -5.96209466e-02, -6.47211820e-02,\n",
              "        6.57714829e-02,  6.19853660e-02, -8.50182250e-02, -2.20416468e-02,\n",
              "       -3.18464339e-02,  1.47753339e-02,  1.52689219e-02, -1.84846334e-02,\n",
              "        3.02537773e-02,  5.23203164e-02, -4.30838875e-02,  3.99543606e-02,\n",
              "        9.49091651e-03,  9.36833583e-03,  2.83710770e-02,  3.61935310e-02,\n",
              "       -1.67489406e-02,  2.88653038e-02, -5.20901289e-03,  4.87725586e-02,\n",
              "        4.29560989e-02,  1.23986807e-02, -2.27477811e-02,  3.33601534e-02,\n",
              "        1.24800066e-02, -4.84303012e-02, -5.84019236e-02, -6.30955920e-02,\n",
              "        4.74714339e-02, -1.03565902e-02,  8.43772441e-02,  4.69995365e-02,\n",
              "       -4.04802114e-02, -3.85992602e-02, -7.12201968e-02, -3.97661561e-03,\n",
              "        2.51777507e-02, -8.27023759e-02,  2.80949250e-02, -7.81492889e-02,\n",
              "       -3.02349031e-02,  7.83062354e-02,  5.07810451e-02,  8.24691355e-02,\n",
              "        9.46049299e-03,  3.93211544e-02, -4.30724956e-02,  4.97674011e-03,\n",
              "       -4.73788828e-02, -6.52575120e-02,  6.20999793e-03,  4.59080711e-02,\n",
              "        4.46292460e-02,  3.07279564e-02, -2.54950542e-02, -1.02817435e-02,\n",
              "        3.99743021e-02, -2.91549899e-02, -2.97996923e-02,  6.66131899e-02,\n",
              "        1.71716642e-02, -3.83344106e-02, -3.64851467e-02, -5.95066622e-02,\n",
              "       -4.72016037e-02,  6.40586466e-02,  5.77905253e-02,  2.02376358e-02,\n",
              "       -5.70113957e-02, -4.20290940e-02,  1.92091651e-02, -6.73158616e-02,\n",
              "        4.93087284e-02,  5.40837459e-02, -1.41487438e-02, -8.72866809e-03,\n",
              "       -6.07699379e-02, -3.86435501e-02, -6.06088676e-02, -4.75129820e-02,\n",
              "        5.22738360e-02, -1.07369078e-02,  8.49983767e-02,  5.22547401e-02,\n",
              "        3.70029099e-02,  3.61145325e-02, -3.10059320e-02,  1.16343284e-02,\n",
              "        5.14506772e-02,  3.26815099e-02, -5.29451147e-02, -2.06184592e-02,\n",
              "        3.23944772e-03, -2.06387732e-02,  6.12228513e-02,  1.98914893e-02,\n",
              "        1.74281970e-02, -4.45682146e-02,  3.60698602e-03,  4.20298204e-02,\n",
              "       -3.10260467e-02, -6.76016584e-02,  6.36668876e-02,  9.16316826e-03,\n",
              "       -5.18935286e-02,  7.01870695e-02, -3.65126766e-02,  6.85908347e-02,\n",
              "        4.18742709e-02, -1.48521792e-02,  4.99715582e-02,  4.10364680e-02,\n",
              "       -5.40301055e-02,  5.68565689e-02, -4.50915881e-02, -3.00907940e-02,\n",
              "        5.89258298e-02, -4.09933515e-02,  6.01568669e-02,  7.63023719e-02,\n",
              "       -1.77536849e-02,  4.76256274e-02,  1.32160876e-02, -2.28501670e-02,\n",
              "        2.62188669e-02, -7.34253302e-02,  5.09306341e-02,  2.95363422e-02,\n",
              "       -2.36851163e-03, -7.93268755e-02,  5.22649512e-02, -3.37479338e-02,\n",
              "        7.45560303e-02,  4.40489203e-02,  7.69139826e-03,  8.28861743e-02,\n",
              "       -3.94318551e-02, -7.44744912e-02,  4.79806773e-02,  4.54444252e-02,\n",
              "       -5.27691729e-02,  3.58971544e-02, -4.35719900e-02, -4.94214371e-02,\n",
              "        5.73006794e-02, -5.77700883e-02,  5.90869167e-04,  1.85351893e-02,\n",
              "        5.09641021e-02, -1.82588175e-02, -6.50217803e-03, -1.10641345e-02,\n",
              "       -2.69270707e-02,  4.09268662e-02,  4.81845923e-02,  3.72600630e-02,\n",
              "        3.56394351e-02,  4.47477624e-02,  5.36300614e-02, -2.60828882e-02,\n",
              "        2.00632047e-02, -5.23091815e-02,  2.92043854e-02, -4.43499684e-02,\n",
              "       -3.58383432e-02,  8.03365111e-02,  1.80824660e-02,  1.94983333e-02,\n",
              "        7.67759532e-02,  1.22968880e-02, -5.44981100e-02, -6.04425417e-03,\n",
              "        2.05686968e-02, -4.17021587e-02, -6.43499494e-02, -3.71704213e-02,\n",
              "        5.68226038e-04,  5.56611605e-02,  5.77131100e-02, -3.88564356e-03,\n",
              "        6.51793778e-02, -6.85307086e-02, -2.55411584e-02,  1.79939866e-02,\n",
              "        3.05413399e-02, -6.28673509e-02, -3.20509006e-03,  2.66226232e-02,\n",
              "       -2.78804358e-02, -5.82541106e-03, -4.52301186e-03,  8.05440694e-02,\n",
              "        3.21076699e-02, -1.90750863e-02,  5.74698076e-02,  8.12202133e-03,\n",
              "        1.07110143e-02,  1.35344379e-02,  6.40105754e-02, -1.50716733e-02,\n",
              "        6.97083101e-02,  2.92516015e-02, -3.74129191e-02,  2.08197273e-02,\n",
              "        8.39272588e-02,  3.27204093e-02,  2.03590859e-02,  2.77233645e-02,\n",
              "       -5.35503402e-02, -3.53601053e-02, -3.07341833e-02,  4.95191105e-02,\n",
              "       -6.39356300e-02, -3.55028994e-02, -6.20681383e-02, -1.88370198e-02,\n",
              "        7.61208087e-02, -7.75624886e-02, -1.90701112e-02,  2.85635386e-02,\n",
              "        6.15344346e-02,  7.52908736e-02,  4.55911756e-02, -7.79922679e-02,\n",
              "       -3.59100173e-03, -1.37595453e-05, -2.47332756e-03,  3.48911136e-02,\n",
              "       -5.17668249e-03,  5.03306724e-02, -4.43895198e-02, -1.38923088e-02,\n",
              "        1.92140397e-02, -3.93169485e-02,  8.49993452e-02, -3.20611848e-03,\n",
              "        5.76622691e-03, -2.85013244e-02,  1.55617651e-02, -2.97054183e-03,\n",
              "        1.70462877e-02, -3.66396606e-02,  8.15171096e-03, -1.71745922e-02,\n",
              "        7.35832304e-02, -1.27317179e-02, -4.79437485e-02, -3.36294286e-02,\n",
              "        1.92672536e-02,  3.46427225e-03, -6.73220828e-02, -7.67802224e-02,\n",
              "        3.46119590e-02,  2.75136549e-02, -3.76755409e-02,  2.31098495e-02,\n",
              "        6.53209090e-02,  1.36134466e-02, -6.56234473e-03,  4.84573655e-02,\n",
              "        6.07211441e-02,  3.29483636e-02, -4.09925207e-02,  2.58922260e-02,\n",
              "        3.28285396e-02, -4.99589555e-03,  7.22696558e-02,  5.65235876e-02,\n",
              "       -5.46522625e-02, -4.45279442e-02,  1.43919140e-02, -1.27713317e-02,\n",
              "       -4.57741395e-02,  4.44274247e-02,  8.09938759e-02, -5.26799709e-02,\n",
              "       -7.19405850e-03, -3.48277502e-02,  5.52437082e-02, -4.11951989e-02,\n",
              "        8.48288462e-02, -1.18648540e-02, -3.19000147e-02,  5.17165102e-02,\n",
              "        7.90939480e-02,  1.77899282e-02, -2.13854318e-03, -5.99961579e-02,\n",
              "       -5.74507751e-02, -2.63751335e-02, -1.79222394e-02,  1.66295171e-02,\n",
              "       -2.51309555e-02,  5.03036641e-02, -4.33177724e-02, -3.01336851e-02,\n",
              "        3.98937538e-02, -1.25426715e-02,  6.62236363e-02, -2.72602681e-02,\n",
              "        9.99518391e-03,  3.99870612e-02, -3.99510376e-02,  3.91558632e-02,\n",
              "        1.56942736e-02,  4.06489708e-02, -5.03164306e-02, -5.37904017e-02,\n",
              "       -3.89334112e-02,  3.00658159e-02,  6.17213212e-02,  8.45856294e-02,\n",
              "       -2.20532548e-02, -7.04387436e-03, -6.35642037e-02,  4.40158881e-02,\n",
              "        2.76502315e-02,  6.97757378e-02,  1.06047746e-02,  6.21584244e-04,\n",
              "       -5.53958863e-02,  1.71081237e-02,  2.84761045e-04, -8.49503204e-02,\n",
              "        2.17813570e-02, -4.52297777e-02,  3.26250829e-02, -5.72654884e-04,\n",
              "        7.24375574e-03,  3.81510593e-02,  4.00576368e-02,  2.72920053e-03,\n",
              "       -7.48625770e-03, -8.50182101e-02,  1.47453183e-02,  3.55976745e-02,\n",
              "       -8.99594091e-03, -1.30958967e-02,  7.86995888e-03, -6.56921417e-02,\n",
              "       -6.45518452e-02,  3.64086218e-02,  2.03508250e-02,  8.14409927e-03,\n",
              "       -8.13163742e-02,  3.54909562e-02, -1.75545160e-02, -6.59425603e-03,\n",
              "        7.34084249e-02, -4.81007844e-02,  7.11808354e-02,  4.67727259e-02,\n",
              "        2.37536244e-02, -3.01892366e-02,  2.28567906e-02,  8.03280175e-02,\n",
              "        6.65771291e-02,  6.22193366e-02, -3.36600356e-02, -3.09657510e-02,\n",
              "        2.71497481e-02,  3.28360386e-02,  5.02465814e-02, -9.13824141e-03,\n",
              "        7.29170069e-03,  3.52855809e-02,  3.20701487e-02, -3.75082791e-02,\n",
              "        1.57453604e-02,  2.14666240e-02, -2.00563017e-03,  7.36359805e-02,\n",
              "       -5.36294281e-03,  2.67228410e-02, -6.55339435e-02, -7.18822032e-02,\n",
              "       -6.27919706e-03,  1.60012376e-02,  5.21459132e-02,  8.33551660e-02,\n",
              "       -5.77058196e-02, -1.54614132e-02, -3.61936167e-02, -1.55912060e-02,\n",
              "       -4.59346874e-03, -7.25631490e-02, -5.66835590e-02, -7.71215186e-02,\n",
              "       -3.86983436e-03, -2.08109673e-02,  1.75842494e-02,  3.75965349e-02,\n",
              "       -1.36107458e-02, -3.28595489e-02, -1.51523650e-02, -3.76791246e-02,\n",
              "       -2.80923792e-03,  4.23770143e-06,  6.54674619e-02, -5.97035978e-03,\n",
              "       -4.68165502e-02, -5.28323017e-02,  6.52141124e-02,  4.07752842e-02,\n",
              "       -8.26052725e-02,  6.35984167e-02,  1.09886774e-03, -6.78737164e-02,\n",
              "       -2.29884163e-02,  5.24328686e-02, -4.80003767e-02, -7.79507030e-03,\n",
              "        3.20407674e-02,  4.18186607e-03,  3.34415957e-02, -1.98955685e-02,\n",
              "        1.10068955e-02,  2.33186595e-03,  3.09943072e-02,  5.16395606e-02,\n",
              "        3.90469134e-02, -1.89428777e-02, -3.36731113e-02, -7.76318926e-03,\n",
              "        6.45407736e-02, -6.45290017e-02, -1.79744244e-03, -5.57946153e-02,\n",
              "        2.35646907e-02,  3.58282402e-02, -1.05689270e-02, -2.90506147e-02,\n",
              "       -7.51890019e-02, -4.70431373e-02, -5.07108346e-02, -2.85417438e-02,\n",
              "       -3.68942022e-02,  1.51180215e-02, -4.74369898e-02, -2.31310769e-04,\n",
              "       -2.63707936e-02, -6.35694489e-02,  2.00773459e-02, -3.30165774e-03,\n",
              "       -7.01895207e-02, -7.30099455e-02,  2.67980415e-02,  2.10693665e-03,\n",
              "       -6.77813664e-02,  5.95692359e-02, -7.22912103e-02, -7.89198056e-02,\n",
              "        4.14872989e-02,  1.51308831e-02, -7.27576688e-02, -2.44203135e-02,\n",
              "        6.00260831e-02, -6.82359748e-03, -6.13972768e-02, -5.46336882e-02,\n",
              "        1.52822305e-02,  4.09619585e-02, -2.68513281e-02, -1.72620732e-02,\n",
              "        9.49064549e-03, -8.16817805e-02, -3.16984765e-02,  2.49030590e-02,\n",
              "        7.91490749e-02,  7.24377558e-02, -2.99656074e-02,  3.55447419e-02,\n",
              "       -3.41039188e-02,  2.21167859e-02, -6.76942766e-02, -2.49317419e-02,\n",
              "       -8.50173458e-02,  7.36265928e-02,  4.74346317e-02,  1.48464739e-02,\n",
              "        7.25515112e-02, -3.47767211e-02, -1.65816229e-02, -4.57573943e-02,\n",
              "       -2.32016132e-03,  4.54005823e-02,  7.49693960e-02, -3.25896069e-02,\n",
              "       -3.68173271e-02, -6.30335361e-02,  5.10897525e-02,  2.67797224e-02,\n",
              "        2.78305262e-02, -1.29486304e-02, -3.68966386e-02,  3.65808629e-03,\n",
              "       -9.70148016e-03,  4.84039746e-02,  4.26690131e-02, -8.09782892e-02],\n",
              "      dtype=float32)>"
            ]
          },
          "metadata": {
            "tags": []
          },
          "execution_count": 13
        }
      ]
    },
    {
      "cell_type": "code",
      "metadata": {
        "id": "mZGi2oaNAHSC"
      },
      "source": [
        "dev = pd.read_csv(\"/content/gdrive/MyDrive/[]Nhan Dang/Question-Similarity/Quora dataset/dev.csv\")\n",
        "test = pd.read_csv(\"/content/gdrive/MyDrive/[]Nhan Dang/Question-Similarity/Quora dataset/test.csv\")"
      ],
      "execution_count": null,
      "outputs": []
    },
    {
      "cell_type": "code",
      "metadata": {
        "id": "VK1aQIj2UF4R"
      },
      "source": [
        "import tqdm"
      ],
      "execution_count": null,
      "outputs": []
    },
    {
      "cell_type": "code",
      "metadata": {
        "colab": {
          "base_uri": "https://localhost:8080/"
        },
        "id": "LVqsWYHaAPTU",
        "outputId": "ad33d485-531b-4f7c-a799-b1a1982b03cd"
      },
      "source": [
        "predict_similarity = []\n",
        "question1 = [str(s) for s in list(train.question1)]\n",
        "question2 = [str(s) for s in list(train.question2)]\n",
        "for idx, q1 in tqdm.tqdm(enumerate(question1)):\n",
        "  q2 = question2[idx]\n",
        "  vector1 = model([q1])[0]\n",
        "  vector2 = model([q2])[0]\n",
        "  predict_similarity.append(cosine(vector1, vector2))"
      ],
      "execution_count": null,
      "outputs": [
        {
          "output_type": "stream",
          "text": [
            "244290it [20:48, 195.64it/s]\n"
          ],
          "name": "stderr"
        }
      ]
    },
    {
      "cell_type": "code",
      "metadata": {
        "colab": {
          "base_uri": "https://localhost:8080/",
          "height": 511
        },
        "id": "vaq4gCuCUBA1",
        "outputId": "0cc42474-637e-4a3c-f50b-612a92bdffd9"
      },
      "source": [
        "ensemble_train = pd.read_csv(\"/content/gdrive/MyDrive/[]Nhan Dang/Question-Similarity/ensemble_train.csv\")\n",
        "ensemble_train"
      ],
      "execution_count": null,
      "outputs": [
        {
          "output_type": "execute_result",
          "data": {
            "text/html": [
              "<div>\n",
              "<style scoped>\n",
              "    .dataframe tbody tr th:only-of-type {\n",
              "        vertical-align: middle;\n",
              "    }\n",
              "\n",
              "    .dataframe tbody tr th {\n",
              "        vertical-align: top;\n",
              "    }\n",
              "\n",
              "    .dataframe thead th {\n",
              "        text-align: right;\n",
              "    }\n",
              "</style>\n",
              "<table border=\"1\" class=\"dataframe\">\n",
              "  <thead>\n",
              "    <tr style=\"text-align: right;\">\n",
              "      <th></th>\n",
              "      <th>distilbert-base-nli-stsb-quora-ranking</th>\n",
              "      <th>paraphrase-distilroberta-base-v2</th>\n",
              "      <th>paraphrase-mpnet-base-v2</th>\n",
              "      <th>paraphrase-MiniLM-L12-v2</th>\n",
              "      <th>nli-mpnet-base-v2</th>\n",
              "      <th>is_duplicate</th>\n",
              "      <th>paraphrase-TinyBERT-L6-v2</th>\n",
              "      <th>paraphrase-MiniLM-L6-v2</th>\n",
              "      <th>stsb-mpnet-base-v2</th>\n",
              "      <th>distiluse-base-multilingual-cased-v1</th>\n",
              "      <th>stsb-distilroberta-base-v2</th>\n",
              "      <th>nli-roberta-base-v2</th>\n",
              "      <th>stsb-roberta-base-v2</th>\n",
              "      <th>nli-distilroberta-base-v2</th>\n",
              "      <th>distiluse-base-multilingual-cased-v2</th>\n",
              "      <th>average_word_embeddings_komninos</th>\n",
              "      <th>average_word_embeddings_glove.6B.300d</th>\n",
              "      <th>average_word_embeddings_levy_dependency</th>\n",
              "      <th>tfidf</th>\n",
              "      <th>doc2vec</th>\n",
              "      <th>UniversalSentenceEncoder</th>\n",
              "    </tr>\n",
              "  </thead>\n",
              "  <tbody>\n",
              "    <tr>\n",
              "      <th>0</th>\n",
              "      <td>0.696001</td>\n",
              "      <td>0.573700</td>\n",
              "      <td>0.569865</td>\n",
              "      <td>0.528683</td>\n",
              "      <td>0.593448</td>\n",
              "      <td>0</td>\n",
              "      <td>0.677278</td>\n",
              "      <td>0.576335</td>\n",
              "      <td>0.726059</td>\n",
              "      <td>0.584884</td>\n",
              "      <td>0.593941</td>\n",
              "      <td>0.588562</td>\n",
              "      <td>0.599323</td>\n",
              "      <td>0.607856</td>\n",
              "      <td>0.610290</td>\n",
              "      <td>0.874871</td>\n",
              "      <td>0.651956</td>\n",
              "      <td>0.818624</td>\n",
              "      <td>0.790132</td>\n",
              "      <td>0.256102</td>\n",
              "      <td>0.684389</td>\n",
              "    </tr>\n",
              "    <tr>\n",
              "      <th>1</th>\n",
              "      <td>0.644232</td>\n",
              "      <td>0.580639</td>\n",
              "      <td>0.639119</td>\n",
              "      <td>0.665531</td>\n",
              "      <td>0.751989</td>\n",
              "      <td>0</td>\n",
              "      <td>0.586621</td>\n",
              "      <td>0.690827</td>\n",
              "      <td>0.705231</td>\n",
              "      <td>0.794581</td>\n",
              "      <td>0.603158</td>\n",
              "      <td>0.676315</td>\n",
              "      <td>0.562753</td>\n",
              "      <td>0.671447</td>\n",
              "      <td>0.737434</td>\n",
              "      <td>0.847067</td>\n",
              "      <td>0.809579</td>\n",
              "      <td>0.877216</td>\n",
              "      <td>0.274691</td>\n",
              "      <td>0.545460</td>\n",
              "      <td>0.609381</td>\n",
              "    </tr>\n",
              "    <tr>\n",
              "      <th>2</th>\n",
              "      <td>0.524185</td>\n",
              "      <td>0.329884</td>\n",
              "      <td>0.357737</td>\n",
              "      <td>0.372725</td>\n",
              "      <td>0.381514</td>\n",
              "      <td>0</td>\n",
              "      <td>0.424391</td>\n",
              "      <td>0.375748</td>\n",
              "      <td>0.401750</td>\n",
              "      <td>0.474788</td>\n",
              "      <td>0.397911</td>\n",
              "      <td>0.373088</td>\n",
              "      <td>0.251338</td>\n",
              "      <td>0.409317</td>\n",
              "      <td>0.493282</td>\n",
              "      <td>0.768955</td>\n",
              "      <td>0.676888</td>\n",
              "      <td>0.774744</td>\n",
              "      <td>0.243344</td>\n",
              "      <td>0.546606</td>\n",
              "      <td>0.335715</td>\n",
              "    </tr>\n",
              "    <tr>\n",
              "      <th>3</th>\n",
              "      <td>0.797487</td>\n",
              "      <td>0.821957</td>\n",
              "      <td>0.829856</td>\n",
              "      <td>0.820814</td>\n",
              "      <td>0.842494</td>\n",
              "      <td>1</td>\n",
              "      <td>0.817135</td>\n",
              "      <td>0.840911</td>\n",
              "      <td>0.829541</td>\n",
              "      <td>0.864448</td>\n",
              "      <td>0.762922</td>\n",
              "      <td>0.806959</td>\n",
              "      <td>0.720074</td>\n",
              "      <td>0.800717</td>\n",
              "      <td>0.892830</td>\n",
              "      <td>0.819618</td>\n",
              "      <td>0.741882</td>\n",
              "      <td>0.874276</td>\n",
              "      <td>0.487620</td>\n",
              "      <td>0.778570</td>\n",
              "      <td>0.828617</td>\n",
              "    </tr>\n",
              "    <tr>\n",
              "      <th>4</th>\n",
              "      <td>0.405980</td>\n",
              "      <td>0.222970</td>\n",
              "      <td>0.268923</td>\n",
              "      <td>0.360277</td>\n",
              "      <td>0.774101</td>\n",
              "      <td>0</td>\n",
              "      <td>0.167811</td>\n",
              "      <td>0.321182</td>\n",
              "      <td>0.502594</td>\n",
              "      <td>0.712492</td>\n",
              "      <td>0.448202</td>\n",
              "      <td>0.754384</td>\n",
              "      <td>0.560354</td>\n",
              "      <td>0.657452</td>\n",
              "      <td>0.730754</td>\n",
              "      <td>1.000000</td>\n",
              "      <td>1.000000</td>\n",
              "      <td>1.000001</td>\n",
              "      <td>1.000000</td>\n",
              "      <td>0.601863</td>\n",
              "      <td>0.743321</td>\n",
              "    </tr>\n",
              "    <tr>\n",
              "      <th>...</th>\n",
              "      <td>...</td>\n",
              "      <td>...</td>\n",
              "      <td>...</td>\n",
              "      <td>...</td>\n",
              "      <td>...</td>\n",
              "      <td>...</td>\n",
              "      <td>...</td>\n",
              "      <td>...</td>\n",
              "      <td>...</td>\n",
              "      <td>...</td>\n",
              "      <td>...</td>\n",
              "      <td>...</td>\n",
              "      <td>...</td>\n",
              "      <td>...</td>\n",
              "      <td>...</td>\n",
              "      <td>...</td>\n",
              "      <td>...</td>\n",
              "      <td>...</td>\n",
              "      <td>...</td>\n",
              "      <td>...</td>\n",
              "      <td>...</td>\n",
              "    </tr>\n",
              "    <tr>\n",
              "      <th>244285</th>\n",
              "      <td>0.968404</td>\n",
              "      <td>0.924721</td>\n",
              "      <td>0.971645</td>\n",
              "      <td>0.958220</td>\n",
              "      <td>0.975229</td>\n",
              "      <td>1</td>\n",
              "      <td>0.961037</td>\n",
              "      <td>0.956967</td>\n",
              "      <td>0.970600</td>\n",
              "      <td>0.964372</td>\n",
              "      <td>0.863011</td>\n",
              "      <td>0.903813</td>\n",
              "      <td>0.903206</td>\n",
              "      <td>0.898462</td>\n",
              "      <td>0.965878</td>\n",
              "      <td>0.950473</td>\n",
              "      <td>0.927411</td>\n",
              "      <td>0.965316</td>\n",
              "      <td>0.811930</td>\n",
              "      <td>0.881391</td>\n",
              "      <td>0.928728</td>\n",
              "    </tr>\n",
              "    <tr>\n",
              "      <th>244286</th>\n",
              "      <td>0.567139</td>\n",
              "      <td>0.586432</td>\n",
              "      <td>0.591516</td>\n",
              "      <td>0.550486</td>\n",
              "      <td>0.757204</td>\n",
              "      <td>0</td>\n",
              "      <td>0.686659</td>\n",
              "      <td>0.557353</td>\n",
              "      <td>0.557772</td>\n",
              "      <td>0.854385</td>\n",
              "      <td>0.636474</td>\n",
              "      <td>0.811767</td>\n",
              "      <td>0.604400</td>\n",
              "      <td>0.828141</td>\n",
              "      <td>0.882678</td>\n",
              "      <td>0.946330</td>\n",
              "      <td>0.906133</td>\n",
              "      <td>0.958616</td>\n",
              "      <td>0.693523</td>\n",
              "      <td>0.779803</td>\n",
              "      <td>0.757957</td>\n",
              "    </tr>\n",
              "    <tr>\n",
              "      <th>244287</th>\n",
              "      <td>0.952039</td>\n",
              "      <td>0.947387</td>\n",
              "      <td>0.922788</td>\n",
              "      <td>0.910906</td>\n",
              "      <td>0.922571</td>\n",
              "      <td>1</td>\n",
              "      <td>0.928489</td>\n",
              "      <td>0.914483</td>\n",
              "      <td>0.924535</td>\n",
              "      <td>0.909789</td>\n",
              "      <td>0.923433</td>\n",
              "      <td>0.938677</td>\n",
              "      <td>0.931787</td>\n",
              "      <td>0.924841</td>\n",
              "      <td>0.887078</td>\n",
              "      <td>0.872990</td>\n",
              "      <td>0.941845</td>\n",
              "      <td>0.847171</td>\n",
              "      <td>0.631680</td>\n",
              "      <td>0.917195</td>\n",
              "      <td>0.904780</td>\n",
              "    </tr>\n",
              "    <tr>\n",
              "      <th>244288</th>\n",
              "      <td>0.279280</td>\n",
              "      <td>0.014479</td>\n",
              "      <td>0.007940</td>\n",
              "      <td>-0.103434</td>\n",
              "      <td>0.076680</td>\n",
              "      <td>0</td>\n",
              "      <td>-0.016502</td>\n",
              "      <td>-0.132550</td>\n",
              "      <td>0.040603</td>\n",
              "      <td>0.143299</td>\n",
              "      <td>-0.007328</td>\n",
              "      <td>0.065641</td>\n",
              "      <td>0.044847</td>\n",
              "      <td>0.063082</td>\n",
              "      <td>0.081014</td>\n",
              "      <td>0.545603</td>\n",
              "      <td>0.348115</td>\n",
              "      <td>0.621314</td>\n",
              "      <td>0.000000</td>\n",
              "      <td>0.295946</td>\n",
              "      <td>0.131100</td>\n",
              "    </tr>\n",
              "    <tr>\n",
              "      <th>244289</th>\n",
              "      <td>0.953485</td>\n",
              "      <td>0.967966</td>\n",
              "      <td>0.971425</td>\n",
              "      <td>0.939875</td>\n",
              "      <td>0.977907</td>\n",
              "      <td>0</td>\n",
              "      <td>0.949640</td>\n",
              "      <td>0.952352</td>\n",
              "      <td>0.975442</td>\n",
              "      <td>0.970112</td>\n",
              "      <td>0.976830</td>\n",
              "      <td>0.987010</td>\n",
              "      <td>0.986750</td>\n",
              "      <td>0.981955</td>\n",
              "      <td>0.970635</td>\n",
              "      <td>1.000000</td>\n",
              "      <td>1.000000</td>\n",
              "      <td>0.999999</td>\n",
              "      <td>1.000000</td>\n",
              "      <td>0.725989</td>\n",
              "      <td>0.901736</td>\n",
              "    </tr>\n",
              "  </tbody>\n",
              "</table>\n",
              "<p>244290 rows × 21 columns</p>\n",
              "</div>"
            ],
            "text/plain": [
              "        distilbert-base-nli-stsb-quora-ranking  ...  UniversalSentenceEncoder\n",
              "0                                     0.696001  ...                  0.684389\n",
              "1                                     0.644232  ...                  0.609381\n",
              "2                                     0.524185  ...                  0.335715\n",
              "3                                     0.797487  ...                  0.828617\n",
              "4                                     0.405980  ...                  0.743321\n",
              "...                                        ...  ...                       ...\n",
              "244285                                0.968404  ...                  0.928728\n",
              "244286                                0.567139  ...                  0.757957\n",
              "244287                                0.952039  ...                  0.904780\n",
              "244288                                0.279280  ...                  0.131100\n",
              "244289                                0.953485  ...                  0.901736\n",
              "\n",
              "[244290 rows x 21 columns]"
            ]
          },
          "metadata": {
            "tags": []
          },
          "execution_count": 17
        }
      ]
    },
    {
      "cell_type": "code",
      "metadata": {
        "colab": {
          "base_uri": "https://localhost:8080/",
          "height": 511
        },
        "id": "JB9RNzlyfqP8",
        "outputId": "542f0d74-582b-4a8d-bfea-52c4ff35412e"
      },
      "source": [
        "ensemble_train['UniversalSentenceEncoder'] = predict_similarity\n",
        "ensemble_train"
      ],
      "execution_count": null,
      "outputs": [
        {
          "output_type": "execute_result",
          "data": {
            "text/html": [
              "<div>\n",
              "<style scoped>\n",
              "    .dataframe tbody tr th:only-of-type {\n",
              "        vertical-align: middle;\n",
              "    }\n",
              "\n",
              "    .dataframe tbody tr th {\n",
              "        vertical-align: top;\n",
              "    }\n",
              "\n",
              "    .dataframe thead th {\n",
              "        text-align: right;\n",
              "    }\n",
              "</style>\n",
              "<table border=\"1\" class=\"dataframe\">\n",
              "  <thead>\n",
              "    <tr style=\"text-align: right;\">\n",
              "      <th></th>\n",
              "      <th>distilbert-base-nli-stsb-quora-ranking</th>\n",
              "      <th>paraphrase-distilroberta-base-v2</th>\n",
              "      <th>paraphrase-mpnet-base-v2</th>\n",
              "      <th>paraphrase-MiniLM-L12-v2</th>\n",
              "      <th>nli-mpnet-base-v2</th>\n",
              "      <th>is_duplicate</th>\n",
              "      <th>paraphrase-TinyBERT-L6-v2</th>\n",
              "      <th>paraphrase-MiniLM-L6-v2</th>\n",
              "      <th>stsb-mpnet-base-v2</th>\n",
              "      <th>distiluse-base-multilingual-cased-v1</th>\n",
              "      <th>stsb-distilroberta-base-v2</th>\n",
              "      <th>nli-roberta-base-v2</th>\n",
              "      <th>stsb-roberta-base-v2</th>\n",
              "      <th>nli-distilroberta-base-v2</th>\n",
              "      <th>distiluse-base-multilingual-cased-v2</th>\n",
              "      <th>average_word_embeddings_komninos</th>\n",
              "      <th>average_word_embeddings_glove.6B.300d</th>\n",
              "      <th>average_word_embeddings_levy_dependency</th>\n",
              "      <th>tfidf</th>\n",
              "      <th>doc2vec</th>\n",
              "      <th>UniversalSentenceEncoder</th>\n",
              "    </tr>\n",
              "  </thead>\n",
              "  <tbody>\n",
              "    <tr>\n",
              "      <th>0</th>\n",
              "      <td>0.696001</td>\n",
              "      <td>0.573700</td>\n",
              "      <td>0.569865</td>\n",
              "      <td>0.528683</td>\n",
              "      <td>0.593448</td>\n",
              "      <td>0</td>\n",
              "      <td>0.677278</td>\n",
              "      <td>0.576335</td>\n",
              "      <td>0.726059</td>\n",
              "      <td>0.584884</td>\n",
              "      <td>0.593941</td>\n",
              "      <td>0.588562</td>\n",
              "      <td>0.599323</td>\n",
              "      <td>0.607856</td>\n",
              "      <td>0.610290</td>\n",
              "      <td>0.874871</td>\n",
              "      <td>0.651956</td>\n",
              "      <td>0.818624</td>\n",
              "      <td>0.790132</td>\n",
              "      <td>0.256102</td>\n",
              "      <td>0.684389</td>\n",
              "    </tr>\n",
              "    <tr>\n",
              "      <th>1</th>\n",
              "      <td>0.644232</td>\n",
              "      <td>0.580639</td>\n",
              "      <td>0.639119</td>\n",
              "      <td>0.665531</td>\n",
              "      <td>0.751989</td>\n",
              "      <td>0</td>\n",
              "      <td>0.586621</td>\n",
              "      <td>0.690827</td>\n",
              "      <td>0.705231</td>\n",
              "      <td>0.794581</td>\n",
              "      <td>0.603158</td>\n",
              "      <td>0.676315</td>\n",
              "      <td>0.562753</td>\n",
              "      <td>0.671447</td>\n",
              "      <td>0.737434</td>\n",
              "      <td>0.847067</td>\n",
              "      <td>0.809579</td>\n",
              "      <td>0.877216</td>\n",
              "      <td>0.274691</td>\n",
              "      <td>0.545460</td>\n",
              "      <td>0.609381</td>\n",
              "    </tr>\n",
              "    <tr>\n",
              "      <th>2</th>\n",
              "      <td>0.524185</td>\n",
              "      <td>0.329884</td>\n",
              "      <td>0.357737</td>\n",
              "      <td>0.372725</td>\n",
              "      <td>0.381514</td>\n",
              "      <td>0</td>\n",
              "      <td>0.424391</td>\n",
              "      <td>0.375748</td>\n",
              "      <td>0.401750</td>\n",
              "      <td>0.474788</td>\n",
              "      <td>0.397911</td>\n",
              "      <td>0.373088</td>\n",
              "      <td>0.251338</td>\n",
              "      <td>0.409317</td>\n",
              "      <td>0.493282</td>\n",
              "      <td>0.768955</td>\n",
              "      <td>0.676888</td>\n",
              "      <td>0.774744</td>\n",
              "      <td>0.243344</td>\n",
              "      <td>0.546606</td>\n",
              "      <td>0.335715</td>\n",
              "    </tr>\n",
              "    <tr>\n",
              "      <th>3</th>\n",
              "      <td>0.797487</td>\n",
              "      <td>0.821957</td>\n",
              "      <td>0.829856</td>\n",
              "      <td>0.820814</td>\n",
              "      <td>0.842494</td>\n",
              "      <td>1</td>\n",
              "      <td>0.817135</td>\n",
              "      <td>0.840911</td>\n",
              "      <td>0.829541</td>\n",
              "      <td>0.864448</td>\n",
              "      <td>0.762922</td>\n",
              "      <td>0.806959</td>\n",
              "      <td>0.720074</td>\n",
              "      <td>0.800717</td>\n",
              "      <td>0.892830</td>\n",
              "      <td>0.819618</td>\n",
              "      <td>0.741882</td>\n",
              "      <td>0.874276</td>\n",
              "      <td>0.487620</td>\n",
              "      <td>0.778570</td>\n",
              "      <td>0.828617</td>\n",
              "    </tr>\n",
              "    <tr>\n",
              "      <th>4</th>\n",
              "      <td>0.405980</td>\n",
              "      <td>0.222970</td>\n",
              "      <td>0.268923</td>\n",
              "      <td>0.360277</td>\n",
              "      <td>0.774101</td>\n",
              "      <td>0</td>\n",
              "      <td>0.167811</td>\n",
              "      <td>0.321182</td>\n",
              "      <td>0.502594</td>\n",
              "      <td>0.712492</td>\n",
              "      <td>0.448202</td>\n",
              "      <td>0.754384</td>\n",
              "      <td>0.560354</td>\n",
              "      <td>0.657452</td>\n",
              "      <td>0.730754</td>\n",
              "      <td>1.000000</td>\n",
              "      <td>1.000000</td>\n",
              "      <td>1.000001</td>\n",
              "      <td>1.000000</td>\n",
              "      <td>0.601863</td>\n",
              "      <td>0.743321</td>\n",
              "    </tr>\n",
              "    <tr>\n",
              "      <th>...</th>\n",
              "      <td>...</td>\n",
              "      <td>...</td>\n",
              "      <td>...</td>\n",
              "      <td>...</td>\n",
              "      <td>...</td>\n",
              "      <td>...</td>\n",
              "      <td>...</td>\n",
              "      <td>...</td>\n",
              "      <td>...</td>\n",
              "      <td>...</td>\n",
              "      <td>...</td>\n",
              "      <td>...</td>\n",
              "      <td>...</td>\n",
              "      <td>...</td>\n",
              "      <td>...</td>\n",
              "      <td>...</td>\n",
              "      <td>...</td>\n",
              "      <td>...</td>\n",
              "      <td>...</td>\n",
              "      <td>...</td>\n",
              "      <td>...</td>\n",
              "    </tr>\n",
              "    <tr>\n",
              "      <th>244285</th>\n",
              "      <td>0.968404</td>\n",
              "      <td>0.924721</td>\n",
              "      <td>0.971645</td>\n",
              "      <td>0.958220</td>\n",
              "      <td>0.975229</td>\n",
              "      <td>1</td>\n",
              "      <td>0.961037</td>\n",
              "      <td>0.956967</td>\n",
              "      <td>0.970600</td>\n",
              "      <td>0.964372</td>\n",
              "      <td>0.863011</td>\n",
              "      <td>0.903813</td>\n",
              "      <td>0.903206</td>\n",
              "      <td>0.898462</td>\n",
              "      <td>0.965878</td>\n",
              "      <td>0.950473</td>\n",
              "      <td>0.927411</td>\n",
              "      <td>0.965316</td>\n",
              "      <td>0.811930</td>\n",
              "      <td>0.881391</td>\n",
              "      <td>0.928728</td>\n",
              "    </tr>\n",
              "    <tr>\n",
              "      <th>244286</th>\n",
              "      <td>0.567139</td>\n",
              "      <td>0.586432</td>\n",
              "      <td>0.591516</td>\n",
              "      <td>0.550486</td>\n",
              "      <td>0.757204</td>\n",
              "      <td>0</td>\n",
              "      <td>0.686659</td>\n",
              "      <td>0.557353</td>\n",
              "      <td>0.557772</td>\n",
              "      <td>0.854385</td>\n",
              "      <td>0.636474</td>\n",
              "      <td>0.811767</td>\n",
              "      <td>0.604400</td>\n",
              "      <td>0.828141</td>\n",
              "      <td>0.882678</td>\n",
              "      <td>0.946330</td>\n",
              "      <td>0.906133</td>\n",
              "      <td>0.958616</td>\n",
              "      <td>0.693523</td>\n",
              "      <td>0.779803</td>\n",
              "      <td>0.757957</td>\n",
              "    </tr>\n",
              "    <tr>\n",
              "      <th>244287</th>\n",
              "      <td>0.952039</td>\n",
              "      <td>0.947387</td>\n",
              "      <td>0.922788</td>\n",
              "      <td>0.910906</td>\n",
              "      <td>0.922571</td>\n",
              "      <td>1</td>\n",
              "      <td>0.928489</td>\n",
              "      <td>0.914483</td>\n",
              "      <td>0.924535</td>\n",
              "      <td>0.909789</td>\n",
              "      <td>0.923433</td>\n",
              "      <td>0.938677</td>\n",
              "      <td>0.931787</td>\n",
              "      <td>0.924841</td>\n",
              "      <td>0.887078</td>\n",
              "      <td>0.872990</td>\n",
              "      <td>0.941845</td>\n",
              "      <td>0.847171</td>\n",
              "      <td>0.631680</td>\n",
              "      <td>0.917195</td>\n",
              "      <td>0.904780</td>\n",
              "    </tr>\n",
              "    <tr>\n",
              "      <th>244288</th>\n",
              "      <td>0.279280</td>\n",
              "      <td>0.014479</td>\n",
              "      <td>0.007940</td>\n",
              "      <td>-0.103434</td>\n",
              "      <td>0.076680</td>\n",
              "      <td>0</td>\n",
              "      <td>-0.016502</td>\n",
              "      <td>-0.132550</td>\n",
              "      <td>0.040603</td>\n",
              "      <td>0.143299</td>\n",
              "      <td>-0.007328</td>\n",
              "      <td>0.065641</td>\n",
              "      <td>0.044847</td>\n",
              "      <td>0.063082</td>\n",
              "      <td>0.081014</td>\n",
              "      <td>0.545603</td>\n",
              "      <td>0.348115</td>\n",
              "      <td>0.621314</td>\n",
              "      <td>0.000000</td>\n",
              "      <td>0.295946</td>\n",
              "      <td>0.131100</td>\n",
              "    </tr>\n",
              "    <tr>\n",
              "      <th>244289</th>\n",
              "      <td>0.953485</td>\n",
              "      <td>0.967966</td>\n",
              "      <td>0.971425</td>\n",
              "      <td>0.939875</td>\n",
              "      <td>0.977907</td>\n",
              "      <td>0</td>\n",
              "      <td>0.949640</td>\n",
              "      <td>0.952352</td>\n",
              "      <td>0.975442</td>\n",
              "      <td>0.970112</td>\n",
              "      <td>0.976830</td>\n",
              "      <td>0.987010</td>\n",
              "      <td>0.986750</td>\n",
              "      <td>0.981955</td>\n",
              "      <td>0.970635</td>\n",
              "      <td>1.000000</td>\n",
              "      <td>1.000000</td>\n",
              "      <td>0.999999</td>\n",
              "      <td>1.000000</td>\n",
              "      <td>0.725989</td>\n",
              "      <td>0.901736</td>\n",
              "    </tr>\n",
              "  </tbody>\n",
              "</table>\n",
              "<p>244290 rows × 21 columns</p>\n",
              "</div>"
            ],
            "text/plain": [
              "        distilbert-base-nli-stsb-quora-ranking  ...  UniversalSentenceEncoder\n",
              "0                                     0.696001  ...                  0.684389\n",
              "1                                     0.644232  ...                  0.609381\n",
              "2                                     0.524185  ...                  0.335715\n",
              "3                                     0.797487  ...                  0.828617\n",
              "4                                     0.405980  ...                  0.743321\n",
              "...                                        ...  ...                       ...\n",
              "244285                                0.968404  ...                  0.928728\n",
              "244286                                0.567139  ...                  0.757957\n",
              "244287                                0.952039  ...                  0.904780\n",
              "244288                                0.279280  ...                  0.131100\n",
              "244289                                0.953485  ...                  0.901736\n",
              "\n",
              "[244290 rows x 21 columns]"
            ]
          },
          "metadata": {
            "tags": []
          },
          "execution_count": 18
        }
      ]
    },
    {
      "cell_type": "code",
      "metadata": {
        "id": "d6FOBwMaf3GQ"
      },
      "source": [
        "ensemble_train.to_csv(\"/content/gdrive/MyDrive/[]Nhan Dang/Question-Similarity/ensemble_train.csv\", index = False)"
      ],
      "execution_count": null,
      "outputs": []
    },
    {
      "cell_type": "code",
      "metadata": {
        "id": "DQmjH0ZdgCh8"
      },
      "source": [
        "import seaborn as sns"
      ],
      "execution_count": null,
      "outputs": []
    },
    {
      "cell_type": "code",
      "metadata": {
        "colab": {
          "base_uri": "https://localhost:8080/",
          "height": 296
        },
        "id": "rHYfTgfVwAsi",
        "outputId": "5dc30389-8a38-4dc6-ba52-34b5d9498769"
      },
      "source": [
        "sns.scatterplot(data=ensemble_train, x=\"UniversalSentenceEncoder\", y=\"is_duplicate\", hue=\"is_duplicate\")"
      ],
      "execution_count": null,
      "outputs": [
        {
          "output_type": "execute_result",
          "data": {
            "text/plain": [
              "<matplotlib.axes._subplots.AxesSubplot at 0x7f882810ddd0>"
            ]
          },
          "metadata": {
            "tags": []
          },
          "execution_count": 20
        },
        {
          "output_type": "display_data",
          "data": {
            "image/png": "[encoded data removed]",
            "text/plain": [
              "<Figure size 432x288 with 1 Axes>"
            ]
          },
          "metadata": {
            "tags": [],
            "needs_background": "light"
          }
        }
      ]
    },
    {
      "cell_type": "code",
      "metadata": {
        "id": "X82H4RvQwKyJ"
      },
      "source": [
        "from sklearn.metrics import accuracy_score, f1_score\n",
        "\n",
        "def compute_performance(gold, predict):\n",
        "  return accuracy_score(gold, predict), f1_score(gold, predict), f1_score(gold, predict, average='weighted')"
      ],
      "execution_count": null,
      "outputs": []
    },
    {
      "cell_type": "code",
      "metadata": {
        "colab": {
          "base_uri": "https://localhost:8080/"
        },
        "id": "LvHB29p3xG_z",
        "outputId": "9c4b0858-4dbc-45c7-9753-1ccaa97efc85"
      },
      "source": [
        "f1_max, u = 0.0, 0\n",
        "u_tmp = -0.4\n",
        "while u_tmp<=1.0:\n",
        "  predict = []\n",
        "  for s in ensemble_train['UniversalSentenceEncoder']:\n",
        "    if s<u_tmp: predict.append(0)\n",
        "    else: predict.append(1)\n",
        "  acc, f1 = compute_performance(ensemble_train['is_duplicate'], predict)\n",
        "  if f1>f1_max:\n",
        "    f1_max = f1\n",
        "    u = u_tmp\n",
        "    accuracy = acc\n",
        "  u_tmp += 0.01\n",
        "print(f\"u: {u}\")\n",
        "print(f\"Accuracy: {accuracy}\")\n",
        "print(f\"F1-score: {f1_max}\")"
      ],
      "execution_count": null,
      "outputs": [
        {
          "output_type": "stream",
          "text": [
            "u: 0.7000000000000006\n",
            "Accuracy: 0.7100863727536944\n",
            "F1-score: 0.6935939534742862\n"
          ],
          "name": "stdout"
        }
      ]
    },
    {
      "cell_type": "code",
      "metadata": {
        "id": "o7d32K3pS213"
      },
      "source": [
        "ensemble_train = pd.read_csv(\"/content/gdrive/MyDrive/[]Nhan Dang/Question-Similarity/ensemble_train.csv\")\n",
        "ensemble_dev = pd.read_csv(\"/content/gdrive/MyDrive/[]Nhan Dang/Question-Similarity/ensemble_dev.csv\")\n",
        "ensemble_test = pd.read_csv(\"/content/gdrive/MyDrive/[]Nhan Dang/Question-Similarity/ensemble_test.csv\")"
      ],
      "execution_count": null,
      "outputs": []
    },
    {
      "cell_type": "code",
      "metadata": {
        "colab": {
          "base_uri": "https://localhost:8080/"
        },
        "id": "k8YbWspZxPJ9",
        "outputId": "143fd9e9-ee66-4112-e9a5-ed09bf277e45"
      },
      "source": [
        "predicted = []\n",
        "for s in ensemble_dev['UniversalSentenceEncoder']:\n",
        "  if s<0.7: predicted.append(0)\n",
        "  else: predicted.append(1)\n",
        "compute_performance(ensemble_dev['is_duplicate'], predicted)"
      ],
      "execution_count": null,
      "outputs": [
        {
          "output_type": "execute_result",
          "data": {
            "text/plain": [
              "(0.707675, 0.6890655746423443, 0.7112903046951374)"
            ]
          },
          "metadata": {
            "tags": []
          },
          "execution_count": 27
        }
      ]
    },
    {
      "cell_type": "code",
      "metadata": {
        "colab": {
          "base_uri": "https://localhost:8080/"
        },
        "id": "1Uqs-QJJxlyk",
        "outputId": "ecf2ce26-849d-4e0b-9de0-a8acfe0d0d78"
      },
      "source": [
        "predicted = []\n",
        "for s in ensemble_test['UniversalSentenceEncoder']:\n",
        "  if s<0.7: predicted.append(0)\n",
        "  else: predicted.append(1)\n",
        "compute_performance(ensemble_test['is_duplicate'], predicted)"
      ],
      "execution_count": null,
      "outputs": [
        {
          "output_type": "execute_result",
          "data": {
            "text/plain": [
              "(0.70975, 0.693141271309634, 0.71301659995326)"
            ]
          },
          "metadata": {
            "tags": []
          },
          "execution_count": 28
        }
      ]
    }
  ]
}