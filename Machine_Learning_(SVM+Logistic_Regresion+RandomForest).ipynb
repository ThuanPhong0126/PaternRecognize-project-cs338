{
  "nbformat": 4,
  "nbformat_minor": 0,
  "metadata": {
    "colab": {
      "name": "Machine_Learning (SVM+Logistic Regresion+RandomForest).ipynb",
      "provenance": [],
      "collapsed_sections": [],
      "machine_shape": "hm",
      "authorship_tag": "ABX9TyOTxohjzY6rlYD/GV1pAH+B",
      "include_colab_link": true
    },
    "kernelspec": {
      "name": "python3",
      "display_name": "Python 3"
    },
    "language_info": {
      "name": "python"
    },
    "accelerator": "GPU"
  },
  "cells": [
    {
      "cell_type": "markdown",
      "metadata": {
        "id": "view-in-github",
        "colab_type": "text"
      },
      "source": [
        "<a href=\"https://colab.research.google.com/github/ThuanPhong0126/PaternRecognize-project-cs338/blob/main/Machine_Learning_(SVM%2BLogistic_Regresion%2BRandomForest).ipynb\" target=\"_parent\"><img src=\"https://colab.research.google.com/assets/colab-badge.svg\" alt=\"Open In Colab\"/></a>"
      ]
    },
    {
      "cell_type": "code",
      "metadata": {
        "id": "Hu4YoW7FaMKr",
        "colab": {
          "base_uri": "https://localhost:8080/"
        },
        "outputId": "b8bd24f6-b563-4c0a-a972-4eb6f8bdaf42"
      },
      "source": [
        "from google.colab import drive\n",
        "drive.mount('/content/drive')"
      ],
      "execution_count": 1,
      "outputs": [
        {
          "output_type": "stream",
          "text": [
            "Mounted at /content/drive\n"
          ],
          "name": "stdout"
        }
      ]
    },
    {
      "cell_type": "code",
      "metadata": {
        "id": "RgGSOCInaZrt"
      },
      "source": [
        "import pandas as pd\n",
        "import numpy as np\n",
        "from nltk.tokenize import word_tokenize\n",
        "from nltk import pos_tag\n",
        "from nltk.corpus import stopwords\n",
        "from nltk.stem import WordNetLemmatizer\n",
        "from sklearn.preprocessing import LabelEncoder\n",
        "from collections import defaultdict\n",
        "from nltk.corpus import wordnet as wn\n",
        "from sklearn.feature_extraction.text import TfidfVectorizer,CountVectorizer\n",
        "from sklearn import model_selection, naive_bayes, svm\n",
        "from sklearn.metrics import accuracy_score\n",
        "from sklearn.metrics import classification_report\n",
        "from sklearn.metrics import confusion_matrix\n",
        "import matplotlib.pyplot as plt\n",
        "import seaborn as sns"
      ],
      "execution_count": 2,
      "outputs": []
    },
    {
      "cell_type": "code",
      "metadata": {
        "id": "KpHx4EThazJW"
      },
      "source": [
        "train= pd.read_csv(\"/content/drive/MyDrive/DoAnNhanDang/Quora dataset/train.csv\")\n",
        "dev= pd.read_csv(\"/content/drive/MyDrive/DoAnNhanDang/Quora dataset/dev.csv\")\n",
        "test= pd.read_csv(\"/content/drive/MyDrive/DoAnNhanDang/Quora dataset/test.csv\")"
      ],
      "execution_count": 3,
      "outputs": []
    },
    {
      "cell_type": "code",
      "metadata": {
        "colab": {
          "base_uri": "https://localhost:8080/",
          "height": 204
        },
        "id": "SdBe_juMz5bi",
        "outputId": "6c60a08c-9df5-4a34-df57-46debe5a0d92"
      },
      "source": [
        "train.head(5)"
      ],
      "execution_count": 4,
      "outputs": [
        {
          "output_type": "execute_result",
          "data": {
            "text/html": [
              "<div>\n",
              "<style scoped>\n",
              "    .dataframe tbody tr th:only-of-type {\n",
              "        vertical-align: middle;\n",
              "    }\n",
              "\n",
              "    .dataframe tbody tr th {\n",
              "        vertical-align: top;\n",
              "    }\n",
              "\n",
              "    .dataframe thead th {\n",
              "        text-align: right;\n",
              "    }\n",
              "</style>\n",
              "<table border=\"1\" class=\"dataframe\">\n",
              "  <thead>\n",
              "    <tr style=\"text-align: right;\">\n",
              "      <th></th>\n",
              "      <th>id</th>\n",
              "      <th>qid1</th>\n",
              "      <th>qid2</th>\n",
              "      <th>question1</th>\n",
              "      <th>question2</th>\n",
              "      <th>is_duplicate</th>\n",
              "    </tr>\n",
              "  </thead>\n",
              "  <tbody>\n",
              "    <tr>\n",
              "      <th>0</th>\n",
              "      <td>1</td>\n",
              "      <td>3</td>\n",
              "      <td>4</td>\n",
              "      <td>What is the story of Kohinoor (Koh-i-Noor) Dia...</td>\n",
              "      <td>What would happen if the Indian government sto...</td>\n",
              "      <td>0</td>\n",
              "    </tr>\n",
              "    <tr>\n",
              "      <th>1</th>\n",
              "      <td>2</td>\n",
              "      <td>5</td>\n",
              "      <td>6</td>\n",
              "      <td>How can I increase the speed of my internet co...</td>\n",
              "      <td>How can Internet speed be increased by hacking...</td>\n",
              "      <td>0</td>\n",
              "    </tr>\n",
              "    <tr>\n",
              "      <th>2</th>\n",
              "      <td>4</td>\n",
              "      <td>9</td>\n",
              "      <td>10</td>\n",
              "      <td>Which one dissolve in water quikly sugar, salt...</td>\n",
              "      <td>Which fish would survive in salt water?</td>\n",
              "      <td>0</td>\n",
              "    </tr>\n",
              "    <tr>\n",
              "      <th>3</th>\n",
              "      <td>5</td>\n",
              "      <td>11</td>\n",
              "      <td>12</td>\n",
              "      <td>Astrology: I am a Capricorn Sun Cap moon and c...</td>\n",
              "      <td>I'm a triple Capricorn (Sun, Moon and ascendan...</td>\n",
              "      <td>1</td>\n",
              "    </tr>\n",
              "    <tr>\n",
              "      <th>4</th>\n",
              "      <td>8</td>\n",
              "      <td>17</td>\n",
              "      <td>18</td>\n",
              "      <td>When do you use シ instead of し?</td>\n",
              "      <td>When do you use \"&amp;\" instead of \"and\"?</td>\n",
              "      <td>0</td>\n",
              "    </tr>\n",
              "  </tbody>\n",
              "</table>\n",
              "</div>"
            ],
            "text/plain": [
              "   id  qid1  ...                                          question2 is_duplicate\n",
              "0   1     3  ...  What would happen if the Indian government sto...            0\n",
              "1   2     5  ...  How can Internet speed be increased by hacking...            0\n",
              "2   4     9  ...            Which fish would survive in salt water?            0\n",
              "3   5    11  ...  I'm a triple Capricorn (Sun, Moon and ascendan...            1\n",
              "4   8    17  ...              When do you use \"&\" instead of \"and\"?            0\n",
              "\n",
              "[5 rows x 6 columns]"
            ]
          },
          "metadata": {
            "tags": []
          },
          "execution_count": 4
        }
      ]
    },
    {
      "cell_type": "code",
      "metadata": {
        "colab": {
          "base_uri": "https://localhost:8080/",
          "height": 204
        },
        "id": "BPrtjdrmz-Jt",
        "outputId": "283b5ac3-3d5f-4f59-ae26-1a7a43c80019"
      },
      "source": [
        "dev.head(5)"
      ],
      "execution_count": 5,
      "outputs": [
        {
          "output_type": "execute_result",
          "data": {
            "text/html": [
              "<div>\n",
              "<style scoped>\n",
              "    .dataframe tbody tr th:only-of-type {\n",
              "        vertical-align: middle;\n",
              "    }\n",
              "\n",
              "    .dataframe tbody tr th {\n",
              "        vertical-align: top;\n",
              "    }\n",
              "\n",
              "    .dataframe thead th {\n",
              "        text-align: right;\n",
              "    }\n",
              "</style>\n",
              "<table border=\"1\" class=\"dataframe\">\n",
              "  <thead>\n",
              "    <tr style=\"text-align: right;\">\n",
              "      <th></th>\n",
              "      <th>id</th>\n",
              "      <th>qid1</th>\n",
              "      <th>qid2</th>\n",
              "      <th>question1</th>\n",
              "      <th>question2</th>\n",
              "      <th>is_duplicate</th>\n",
              "    </tr>\n",
              "  </thead>\n",
              "  <tbody>\n",
              "    <tr>\n",
              "      <th>0</th>\n",
              "      <td>340617</td>\n",
              "      <td>468377</td>\n",
              "      <td>468378</td>\n",
              "      <td>How do you know if a lightning strikes your ho...</td>\n",
              "      <td>How often does lightning strike the Eiffel Tower?</td>\n",
              "      <td>0</td>\n",
              "    </tr>\n",
              "    <tr>\n",
              "      <th>1</th>\n",
              "      <td>89072</td>\n",
              "      <td>149711</td>\n",
              "      <td>149712</td>\n",
              "      <td>Are facials good or bad for your skin?</td>\n",
              "      <td>Are back facials good for your skin?</td>\n",
              "      <td>0</td>\n",
              "    </tr>\n",
              "    <tr>\n",
              "      <th>2</th>\n",
              "      <td>270535</td>\n",
              "      <td>388449</td>\n",
              "      <td>140381</td>\n",
              "      <td>What are Bust Rhymes fastest raps?</td>\n",
              "      <td>What does RAP mean?</td>\n",
              "      <td>0</td>\n",
              "    </tr>\n",
              "    <tr>\n",
              "      <th>3</th>\n",
              "      <td>66193</td>\n",
              "      <td>114771</td>\n",
              "      <td>114772</td>\n",
              "      <td>What's the funniest conversation you've overhe...</td>\n",
              "      <td>What is the funniest conversation you overheard?</td>\n",
              "      <td>1</td>\n",
              "    </tr>\n",
              "    <tr>\n",
              "      <th>4</th>\n",
              "      <td>197370</td>\n",
              "      <td>257850</td>\n",
              "      <td>108173</td>\n",
              "      <td>What is the best book to learn c#?</td>\n",
              "      <td>What are the best books to learn c programing ...</td>\n",
              "      <td>1</td>\n",
              "    </tr>\n",
              "  </tbody>\n",
              "</table>\n",
              "</div>"
            ],
            "text/plain": [
              "       id  ...  is_duplicate\n",
              "0  340617  ...             0\n",
              "1   89072  ...             0\n",
              "2  270535  ...             0\n",
              "3   66193  ...             1\n",
              "4  197370  ...             1\n",
              "\n",
              "[5 rows x 6 columns]"
            ]
          },
          "metadata": {
            "tags": []
          },
          "execution_count": 5
        }
      ]
    },
    {
      "cell_type": "code",
      "metadata": {
        "colab": {
          "base_uri": "https://localhost:8080/",
          "height": 204
        },
        "id": "RVL9nh2J0Aor",
        "outputId": "dddead62-a559-4b54-db65-72c3973eae0b"
      },
      "source": [
        "test.head(5)"
      ],
      "execution_count": 6,
      "outputs": [
        {
          "output_type": "execute_result",
          "data": {
            "text/html": [
              "<div>\n",
              "<style scoped>\n",
              "    .dataframe tbody tr th:only-of-type {\n",
              "        vertical-align: middle;\n",
              "    }\n",
              "\n",
              "    .dataframe tbody tr th {\n",
              "        vertical-align: top;\n",
              "    }\n",
              "\n",
              "    .dataframe thead th {\n",
              "        text-align: right;\n",
              "    }\n",
              "</style>\n",
              "<table border=\"1\" class=\"dataframe\">\n",
              "  <thead>\n",
              "    <tr style=\"text-align: right;\">\n",
              "      <th></th>\n",
              "      <th>id</th>\n",
              "      <th>qid1</th>\n",
              "      <th>qid2</th>\n",
              "      <th>question1</th>\n",
              "      <th>question2</th>\n",
              "      <th>is_duplicate</th>\n",
              "    </tr>\n",
              "  </thead>\n",
              "  <tbody>\n",
              "    <tr>\n",
              "      <th>0</th>\n",
              "      <td>96431</td>\n",
              "      <td>160631</td>\n",
              "      <td>17921</td>\n",
              "      <td>What's the best time to visit Bermuda?</td>\n",
              "      <td>What are some of the most amazing places to vi...</td>\n",
              "      <td>0</td>\n",
              "    </tr>\n",
              "    <tr>\n",
              "      <th>1</th>\n",
              "      <td>112142</td>\n",
              "      <td>183533</td>\n",
              "      <td>183534</td>\n",
              "      <td>Can the value of oil ETF USO can go to zero?</td>\n",
              "      <td>I started programming 4 years ago. But recentl...</td>\n",
              "      <td>0</td>\n",
              "    </tr>\n",
              "    <tr>\n",
              "      <th>2</th>\n",
              "      <td>264650</td>\n",
              "      <td>336711</td>\n",
              "      <td>381462</td>\n",
              "      <td>Can I charge my phone with a charger that outp...</td>\n",
              "      <td>Can I charge my phone with a charger that outp...</td>\n",
              "      <td>1</td>\n",
              "    </tr>\n",
              "    <tr>\n",
              "      <th>3</th>\n",
              "      <td>209773</td>\n",
              "      <td>314137</td>\n",
              "      <td>314138</td>\n",
              "      <td>What if Gohan entered the Hyperbolic Time Cham...</td>\n",
              "      <td>What if Gohan had went in with Goten in the hy...</td>\n",
              "      <td>1</td>\n",
              "    </tr>\n",
              "    <tr>\n",
              "      <th>4</th>\n",
              "      <td>65399</td>\n",
              "      <td>113510</td>\n",
              "      <td>113511</td>\n",
              "      <td>What's the difference between Super AMOLED and...</td>\n",
              "      <td>Where can I get a custom AMOLED screen made?</td>\n",
              "      <td>0</td>\n",
              "    </tr>\n",
              "  </tbody>\n",
              "</table>\n",
              "</div>"
            ],
            "text/plain": [
              "       id  ...  is_duplicate\n",
              "0   96431  ...             0\n",
              "1  112142  ...             0\n",
              "2  264650  ...             1\n",
              "3  209773  ...             1\n",
              "4   65399  ...             0\n",
              "\n",
              "[5 rows x 6 columns]"
            ]
          },
          "metadata": {
            "tags": []
          },
          "execution_count": 6
        }
      ]
    },
    {
      "cell_type": "code",
      "metadata": {
        "id": "NE9lu51Ube2w"
      },
      "source": [
        "train=train.fillna(\"No question\")\n",
        "dev=dev.fillna(\"No question\")\n",
        "test=test.fillna(\"No question\")\n",
        "X_train = train['question1']+\" [SEP] \"+train['question2']\n",
        "y_train = train['is_duplicate'].values\n",
        "\n",
        "X_dev = dev['question1']+\" [SEP] \"+dev['question2']\n",
        "y_dev = dev['is_duplicate'].values\n",
        "\n",
        "X_test = test['question1']+\" [SEP] \"+test['question2']\n",
        "y_test = test['is_duplicate'].values"
      ],
      "execution_count": 8,
      "outputs": []
    },
    {
      "cell_type": "code",
      "metadata": {
        "id": "hOkrzYGbbUYW"
      },
      "source": [
        "Encoder = LabelEncoder()\n",
        "y_train = Encoder.fit_transform(y_train)\n",
        "y_dev = Encoder.fit_transform(y_dev)\n",
        "y_test = Encoder.fit_transform(y_test)"
      ],
      "execution_count": 9,
      "outputs": []
    },
    {
      "cell_type": "code",
      "metadata": {
        "colab": {
          "base_uri": "https://localhost:8080/"
        },
        "id": "zNv4i0vY0Mmn",
        "outputId": "2e66465e-93df-4f68-cfc4-1d598d2e0164"
      },
      "source": [
        "print(len(y_train),len(y_dev),len(y_test))"
      ],
      "execution_count": 10,
      "outputs": [
        {
          "output_type": "stream",
          "text": [
            "244290 80000 80000\n"
          ],
          "name": "stdout"
        }
      ]
    },
    {
      "cell_type": "code",
      "metadata": {
        "id": "Oo8ta-zs0v2M"
      },
      "source": [
        "dataset=pd.concat([train,dev,test],axis=0)"
      ],
      "execution_count": 11,
      "outputs": []
    },
    {
      "cell_type": "code",
      "metadata": {
        "id": "EmpnEr8pbzmH"
      },
      "source": [
        "vectorizer = CountVectorizer()\n",
        "vectorizer.fit(dataset['question1']+\" [SEP] \"+dataset['question2'])\n",
        "X_train = vectorizer.transform(X_train.to_list())\n",
        "X_dev = vectorizer.transform(X_dev.to_list())\n",
        "X_test = vectorizer.transform(X_test.to_list())"
      ],
      "execution_count": 12,
      "outputs": []
    },
    {
      "cell_type": "markdown",
      "metadata": {
        "id": "H5ru2kPJBnLe"
      },
      "source": [
        "# **SVM**"
      ]
    },
    {
      "cell_type": "code",
      "metadata": {
        "id": "t54x_sBfjFIO",
        "colab": {
          "base_uri": "https://localhost:8080/"
        },
        "outputId": "eb7dc602-3ef2-44de-f80d-7e8daea5e2d0"
      },
      "source": [
        "from sklearn import svm\n",
        "model=svm.LinearSVC()\n",
        "model.fit(X_train,y_train)"
      ],
      "execution_count": 18,
      "outputs": [
        {
          "output_type": "stream",
          "text": [
            "/usr/local/lib/python3.7/dist-packages/sklearn/svm/_base.py:947: ConvergenceWarning: Liblinear failed to converge, increase the number of iterations.\n",
            "  \"the number of iterations.\", ConvergenceWarning)\n"
          ],
          "name": "stderr"
        }
      ]
    },
    {
      "cell_type": "markdown",
      "metadata": {
        "id": "8D_HM6YOEOwy"
      },
      "source": [
        "# dev"
      ]
    },
    {
      "cell_type": "code",
      "metadata": {
        "id": "A1E5ZWppjNVr",
        "colab": {
          "base_uri": "https://localhost:8080/"
        },
        "outputId": "2abb214a-811c-46b7-da1a-d3839c3c3af0"
      },
      "source": [
        "from sklearn.metrics import accuracy_score\n",
        "predict_dev=model.predict(X_dev)\n",
        "print(accuracy_score(y_dev,predict_dev))"
      ],
      "execution_count": 33,
      "outputs": [
        {
          "output_type": "stream",
          "text": [
            "0.745425\n"
          ],
          "name": "stdout"
        }
      ]
    },
    {
      "cell_type": "code",
      "metadata": {
        "colab": {
          "base_uri": "https://localhost:8080/"
        },
        "id": "NW6eFMml1CE7",
        "outputId": "949017ff-bd2e-4162-9f39-cdc8bc3686cc"
      },
      "source": [
        "from sklearn.metrics import f1_score\n",
        "#F1 - weighted\n",
        "evaluation = f1_score(y_dev, predict_dev, average='weighted')\n",
        "print(\"F1 - weighted: \" + str(evaluation))\n",
        "print(\"___________________________________________________________________\")\n",
        "#F1-binary\n",
        "evaluation = f1_score(y_dev, predict_dev, average='binary')\n",
        "print(\"F1 - binary: \" + str(evaluation))\n",
        "print(\"___________________________________________________________________\")"
      ],
      "execution_count": 21,
      "outputs": [
        {
          "output_type": "stream",
          "text": [
            "F1 - weighted: 0.7453335136212988\n",
            "___________________________________________________________________\n",
            "F1 - binary: 0.6526944065484311\n",
            "___________________________________________________________________\n"
          ],
          "name": "stdout"
        }
      ]
    },
    {
      "cell_type": "markdown",
      "metadata": {
        "id": "CuRc-O0FEGr_"
      },
      "source": [
        "# test"
      ]
    },
    {
      "cell_type": "code",
      "metadata": {
        "id": "XBPGy3vPoOlG",
        "colab": {
          "base_uri": "https://localhost:8080/"
        },
        "outputId": "ae143f34-c3ca-4cf1-8ec4-76407084728c"
      },
      "source": [
        "predict_test=model.predict(X_test)\n",
        "print(accuracy_score(y_test,predict_test))"
      ],
      "execution_count": 22,
      "outputs": [
        {
          "output_type": "stream",
          "text": [
            "0.7456125\n"
          ],
          "name": "stdout"
        }
      ]
    },
    {
      "cell_type": "code",
      "metadata": {
        "colab": {
          "base_uri": "https://localhost:8080/"
        },
        "id": "9ipwYi6C1emz",
        "outputId": "0fc17e25-b2f3-4c5b-ee5f-8331e5705140"
      },
      "source": [
        "from sklearn.metrics import f1_score\n",
        "#F1 - weighted\n",
        "evaluation = f1_score(y_test, predict_test, average='weighted')\n",
        "print(\"F1 - weighted: \" + str(evaluation))\n",
        "print(\"___________________________________________________________________\")\n",
        "#F1-binary\n",
        "evaluation = f1_score(y_test, predict_test, average='binary')\n",
        "print(\"F1 - binary: \" + str(evaluation))\n",
        "print(\"___________________________________________________________________\")"
      ],
      "execution_count": 23,
      "outputs": [
        {
          "output_type": "stream",
          "text": [
            "F1 - weighted: 0.7455019975028525\n",
            "___________________________________________________________________\n",
            "F1 - binary: 0.6548396397618765\n",
            "___________________________________________________________________\n"
          ],
          "name": "stdout"
        }
      ]
    },
    {
      "cell_type": "markdown",
      "metadata": {
        "id": "49wJZcfd0_au"
      },
      "source": [
        "# **RandomForest**"
      ]
    },
    {
      "cell_type": "code",
      "metadata": {
        "id": "8XOBwoYqoVEe"
      },
      "source": [
        "from sklearn.ensemble import RandomForestClassifier\n",
        "model1=RandomForestClassifier()\n",
        "model1.fit(X_train,y_train)"
      ],
      "execution_count": 24,
      "outputs": []
    },
    {
      "cell_type": "markdown",
      "metadata": {
        "id": "BkMf2XCwEC4g"
      },
      "source": [
        "# dev"
      ]
    },
    {
      "cell_type": "code",
      "metadata": {
        "id": "N-iTzrGoqRFF",
        "colab": {
          "base_uri": "https://localhost:8080/"
        },
        "outputId": "71a6ae59-e9ff-45ab-e71b-bfd10e7f2aed"
      },
      "source": [
        "predict_dev=model1.predict(X_dev)\n",
        "print(accuracy_score(y_dev,predict_dev))"
      ],
      "execution_count": 29,
      "outputs": [
        {
          "output_type": "stream",
          "text": [
            "0.82055\n"
          ],
          "name": "stdout"
        }
      ]
    },
    {
      "cell_type": "code",
      "metadata": {
        "colab": {
          "base_uri": "https://localhost:8080/"
        },
        "id": "DAlHhJpG2nIw",
        "outputId": "05f05686-9674-47bf-da21-ee7f61bba38a"
      },
      "source": [
        "from sklearn.metrics import f1_score\n",
        "#F1 - weighted\n",
        "evaluation = f1_score(y_dev, predict_dev, average='weighted')\n",
        "print(\"F1 - weighted: \" + str(evaluation))\n",
        "print(\"___________________________________________________________________\")\n",
        "#F1-binary\n",
        "evaluation = f1_score(y_dev, predict_dev, average='binary')\n",
        "print(\"F1 - binary: \" + str(evaluation))\n",
        "print(\"___________________________________________________________________\")"
      ],
      "execution_count": 30,
      "outputs": [
        {
          "output_type": "stream",
          "text": [
            "F1 - weighted: 0.8161140489853628\n",
            "___________________________________________________________________\n",
            "F1 - binary: 0.7313622754491017\n",
            "___________________________________________________________________\n"
          ],
          "name": "stdout"
        }
      ]
    },
    {
      "cell_type": "markdown",
      "metadata": {
        "id": "YzR96fBXD8qr"
      },
      "source": [
        "# test"
      ]
    },
    {
      "cell_type": "code",
      "metadata": {
        "colab": {
          "base_uri": "https://localhost:8080/"
        },
        "id": "Ds4vz0pB3DNr",
        "outputId": "b656b2c7-8274-4be3-8b93-825580cc04c9"
      },
      "source": [
        "predict_test=model1.predict(X_test)\n",
        "print(accuracy_score(y_test,predict_test))"
      ],
      "execution_count": 31,
      "outputs": [
        {
          "output_type": "stream",
          "text": [
            "0.8193375\n"
          ],
          "name": "stdout"
        }
      ]
    },
    {
      "cell_type": "code",
      "metadata": {
        "colab": {
          "base_uri": "https://localhost:8080/"
        },
        "id": "P6E6_pkR3Q6X",
        "outputId": "d2e4436e-0034-45be-a015-cde5887a2c48"
      },
      "source": [
        "from sklearn.metrics import f1_score\n",
        "#F1 - weighted\n",
        "evaluation = f1_score(y_test, predict_test, average='weighted')\n",
        "print(\"F1 - weighted: \" + str(evaluation))\n",
        "print(\"___________________________________________________________________\")\n",
        "#F1-binary\n",
        "evaluation = f1_score(y_test, predict_test, average='binary')\n",
        "print(\"F1 - binary: \" + str(evaluation))\n",
        "print(\"___________________________________________________________________\")"
      ],
      "execution_count": 32,
      "outputs": [
        {
          "output_type": "stream",
          "text": [
            "F1 - weighted: 0.8153183923643377\n",
            "___________________________________________________________________\n",
            "F1 - binary: 0.7330981883991061\n",
            "___________________________________________________________________\n"
          ],
          "name": "stdout"
        }
      ]
    },
    {
      "cell_type": "markdown",
      "metadata": {
        "id": "q5msVBzN-uf8"
      },
      "source": [
        "# **Logistic Regression**"
      ]
    },
    {
      "cell_type": "code",
      "metadata": {
        "id": "fT4ugy7D-z2J"
      },
      "source": [
        "from sklearn.linear_model import LogisticRegression"
      ],
      "execution_count": 13,
      "outputs": []
    },
    {
      "cell_type": "code",
      "metadata": {
        "colab": {
          "base_uri": "https://localhost:8080/"
        },
        "id": "Pi-aIxtzAtEH",
        "outputId": "ee5c0c37-10ae-403d-bbec-48df3994b776"
      },
      "source": [
        "model2=LogisticRegression()\n",
        "model2.fit(X_train,y_train)"
      ],
      "execution_count": 14,
      "outputs": [
        {
          "output_type": "stream",
          "text": [
            "/usr/local/lib/python3.7/dist-packages/sklearn/linear_model/_logistic.py:940: ConvergenceWarning: lbfgs failed to converge (status=1):\n",
            "STOP: TOTAL NO. of ITERATIONS REACHED LIMIT.\n",
            "\n",
            "Increase the number of iterations (max_iter) or scale the data as shown in:\n",
            "    https://scikit-learn.org/stable/modules/preprocessing.html\n",
            "Please also refer to the documentation for alternative solver options:\n",
            "    https://scikit-learn.org/stable/modules/linear_model.html#logistic-regression\n",
            "  extra_warning_msg=_LOGISTIC_SOLVER_CONVERGENCE_MSG)\n"
          ],
          "name": "stderr"
        },
        {
          "output_type": "execute_result",
          "data": {
            "text/plain": [
              "LogisticRegression(C=1.0, class_weight=None, dual=False, fit_intercept=True,\n",
              "                   intercept_scaling=1, l1_ratio=None, max_iter=100,\n",
              "                   multi_class='auto', n_jobs=None, penalty='l2',\n",
              "                   random_state=None, solver='lbfgs', tol=0.0001, verbose=0,\n",
              "                   warm_start=False)"
            ]
          },
          "metadata": {
            "tags": []
          },
          "execution_count": 14
        }
      ]
    },
    {
      "cell_type": "markdown",
      "metadata": {
        "id": "7UXWp_A1CjTn"
      },
      "source": [
        "# dev"
      ]
    },
    {
      "cell_type": "code",
      "metadata": {
        "colab": {
          "base_uri": "https://localhost:8080/"
        },
        "id": "rN_bcq8QA8tV",
        "outputId": "0c9c341e-184b-443a-d530-d6d1bf77a965"
      },
      "source": [
        "predict_dev=model2.predict(X_dev)\n",
        "print(accuracy_score(y_dev,predict_dev))"
      ],
      "execution_count": 15,
      "outputs": [
        {
          "output_type": "stream",
          "text": [
            "0.7491125\n"
          ],
          "name": "stdout"
        }
      ]
    },
    {
      "cell_type": "code",
      "metadata": {
        "colab": {
          "base_uri": "https://localhost:8080/"
        },
        "id": "uO3vXyoxBAp9",
        "outputId": "b0163434-9d20-4d68-a1df-50fff1b38c9b"
      },
      "source": [
        "from sklearn.metrics import f1_score\n",
        "#F1 - weighted\n",
        "evaluation = f1_score(y_dev, predict_dev, average='weighted')\n",
        "print(\"F1 - weighted: \" + str(evaluation))\n",
        "print(\"___________________________________________________________________\")\n",
        "#F1-binary\n",
        "evaluation = f1_score(y_dev, predict_dev, average='binary')\n",
        "print(\"F1 - binary: \" + str(evaluation))\n",
        "print(\"___________________________________________________________________\")"
      ],
      "execution_count": 17,
      "outputs": [
        {
          "output_type": "stream",
          "text": [
            "F1 - weighted: 0.744826767084475\n",
            "___________________________________________________________________\n",
            "F1 - binary: 0.6339212431831032\n",
            "___________________________________________________________________\n"
          ],
          "name": "stdout"
        }
      ]
    },
    {
      "cell_type": "markdown",
      "metadata": {
        "id": "QiuyVnrrCn8R"
      },
      "source": [
        "# test"
      ]
    },
    {
      "cell_type": "code",
      "metadata": {
        "colab": {
          "base_uri": "https://localhost:8080/"
        },
        "id": "VafSrBNtBF2d",
        "outputId": "d5eb83f5-9804-4f15-e12d-df24ca0a7589"
      },
      "source": [
        "predict_test=model2.predict(X_test)\n",
        "print(accuracy_score(y_test,predict_test))"
      ],
      "execution_count": 21,
      "outputs": [
        {
          "output_type": "stream",
          "text": [
            "0.74855\n"
          ],
          "name": "stdout"
        }
      ]
    },
    {
      "cell_type": "code",
      "metadata": {
        "colab": {
          "base_uri": "https://localhost:8080/"
        },
        "id": "Dc3rxW9xBPO7",
        "outputId": "930f5092-bee5-439d-d35b-ddf8eb6296fc"
      },
      "source": [
        "from sklearn.metrics import f1_score\n",
        "#F1 - weighted\n",
        "evaluation = f1_score(y_test, predict_test, average='weighted')\n",
        "print(\"F1 - weighted: \" + str(evaluation))\n",
        "print(\"___________________________________________________________________\")\n",
        "#F1-binary\n",
        "evaluation = f1_score(y_test, predict_test, average='binary')\n",
        "print(\"F1 - binary: \" + str(evaluation))\n",
        "print(\"___________________________________________________________________\")"
      ],
      "execution_count": 22,
      "outputs": [
        {
          "output_type": "stream",
          "text": [
            "F1 - weighted: 0.7443298133068152\n",
            "___________________________________________________________________\n",
            "F1 - binary: 0.6354079820205168\n",
            "___________________________________________________________________\n"
          ],
          "name": "stdout"
        }
      ]
    }
  ]
}