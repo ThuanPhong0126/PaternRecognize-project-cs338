{
  "nbformat": 4,
  "nbformat_minor": 0,
  "metadata": {
    "colab": {
      "name": "TFIDF-QuestionSimilarity.ipynb",
      "provenance": [],
      "collapsed_sections": [],
      "machine_shape": "hm",
      "include_colab_link": true
    },
    "kernelspec": {
      "name": "python3",
      "display_name": "Python 3"
    },
    "language_info": {
      "name": "python"
    },
    "accelerator": "GPU"
  },
  "cells": [
    {
      "cell_type": "markdown",
      "metadata": {
        "id": "view-in-github",
        "colab_type": "text"
      },
      "source": [
        "<a href=\"https://colab.research.google.com/github/ThuanPhong0126/PaternRecognize-project-cs338/blob/main/TFIDF_QuestionSimilarity.ipynb\" target=\"_parent\"><img src=\"https://colab.research.google.com/assets/colab-badge.svg\" alt=\"Open In Colab\"/></a>"
      ]
    },
    {
      "cell_type": "code",
      "metadata": {
        "colab": {
          "base_uri": "https://localhost:8080/"
        },
        "id": "pRceQGda3LxC",
        "outputId": "810feb83-4086-42cc-ab33-9fd86596d148"
      },
      "source": [
        "from google.colab import drive\n",
        "drive.mount(\"/content/gdrive\")"
      ],
      "execution_count": null,
      "outputs": [
        {
          "output_type": "stream",
          "text": [
            "Mounted at /content/gdrive\n"
          ],
          "name": "stdout"
        }
      ]
    },
    {
      "cell_type": "code",
      "metadata": {
        "colab": {
          "base_uri": "https://localhost:8080/"
        },
        "id": "zfYp-bBQ4kkD",
        "outputId": "8acddce9-abb8-4c94-a043-22c286c5f63c"
      },
      "source": [
        "cd /content/gdrive/MyDrive/[]Nhan Dang/Question-Similarity"
      ],
      "execution_count": null,
      "outputs": [
        {
          "output_type": "stream",
          "text": [
            "/content/gdrive/MyDrive/[]Nhan Dang/Question-Similarity\n"
          ],
          "name": "stdout"
        }
      ]
    },
    {
      "cell_type": "code",
      "metadata": {
        "id": "XKsws_kf5Lc2"
      },
      "source": [
        "import pandas as pd"
      ],
      "execution_count": null,
      "outputs": []
    },
    {
      "cell_type": "code",
      "metadata": {
        "id": "krORM9zysclN"
      },
      "source": [
        "ensemble_train = pd.read_csv(\"/content/gdrive/MyDrive/[]Nhan Dang/Question-Similarity/SBERT_encode_sentence.csv\")"
      ],
      "execution_count": null,
      "outputs": []
    },
    {
      "cell_type": "code",
      "metadata": {
        "id": "9Tuat9WpsjG2"
      },
      "source": [
        "ensemble_dev = pd.read_csv(\"/content/gdrive/MyDrive/[]Nhan Dang/Question-Similarity/SBERT_encode_sentence_dev.csv\")\n",
        "ensemble_test = pd.read_csv(\"/content/gdrive/MyDrive/[]Nhan Dang/Question-Similarity/SBERT_encode_sentence_test.csv\")"
      ],
      "execution_count": null,
      "outputs": []
    },
    {
      "cell_type": "code",
      "metadata": {
        "colab": {
          "base_uri": "https://localhost:8080/",
          "height": 419
        },
        "id": "QWUcLli58KIq",
        "outputId": "73f9565f-86c0-4bc3-ad82-94b352575cdb"
      },
      "source": [
        "train = pd.read_csv(\"/content/gdrive/MyDrive/[]Nhan Dang/Question-Similarity/Quora dataset/train.csv\")\n",
        "train['question1'] = train['question1'].apply(lambda x: str(x))\n",
        "train['question2'] = train['question2'].apply(lambda x: str(x))\n",
        "train"
      ],
      "execution_count": null,
      "outputs": [
        {
          "output_type": "execute_result",
          "data": {
            "text/html": [
              "<div>\n",
              "<style scoped>\n",
              "    .dataframe tbody tr th:only-of-type {\n",
              "        vertical-align: middle;\n",
              "    }\n",
              "\n",
              "    .dataframe tbody tr th {\n",
              "        vertical-align: top;\n",
              "    }\n",
              "\n",
              "    .dataframe thead th {\n",
              "        text-align: right;\n",
              "    }\n",
              "</style>\n",
              "<table border=\"1\" class=\"dataframe\">\n",
              "  <thead>\n",
              "    <tr style=\"text-align: right;\">\n",
              "      <th></th>\n",
              "      <th>id</th>\n",
              "      <th>qid1</th>\n",
              "      <th>qid2</th>\n",
              "      <th>question1</th>\n",
              "      <th>question2</th>\n",
              "      <th>is_duplicate</th>\n",
              "    </tr>\n",
              "  </thead>\n",
              "  <tbody>\n",
              "    <tr>\n",
              "      <th>0</th>\n",
              "      <td>1</td>\n",
              "      <td>3</td>\n",
              "      <td>4</td>\n",
              "      <td>What is the story of Kohinoor (Koh-i-Noor) Dia...</td>\n",
              "      <td>What would happen if the Indian government sto...</td>\n",
              "      <td>0</td>\n",
              "    </tr>\n",
              "    <tr>\n",
              "      <th>1</th>\n",
              "      <td>2</td>\n",
              "      <td>5</td>\n",
              "      <td>6</td>\n",
              "      <td>How can I increase the speed of my internet co...</td>\n",
              "      <td>How can Internet speed be increased by hacking...</td>\n",
              "      <td>0</td>\n",
              "    </tr>\n",
              "    <tr>\n",
              "      <th>2</th>\n",
              "      <td>4</td>\n",
              "      <td>9</td>\n",
              "      <td>10</td>\n",
              "      <td>Which one dissolve in water quikly sugar, salt...</td>\n",
              "      <td>Which fish would survive in salt water?</td>\n",
              "      <td>0</td>\n",
              "    </tr>\n",
              "    <tr>\n",
              "      <th>3</th>\n",
              "      <td>5</td>\n",
              "      <td>11</td>\n",
              "      <td>12</td>\n",
              "      <td>Astrology: I am a Capricorn Sun Cap moon and c...</td>\n",
              "      <td>I'm a triple Capricorn (Sun, Moon and ascendan...</td>\n",
              "      <td>1</td>\n",
              "    </tr>\n",
              "    <tr>\n",
              "      <th>4</th>\n",
              "      <td>8</td>\n",
              "      <td>17</td>\n",
              "      <td>18</td>\n",
              "      <td>When do you use シ instead of し?</td>\n",
              "      <td>When do you use \"&amp;\" instead of \"and\"?</td>\n",
              "      <td>0</td>\n",
              "    </tr>\n",
              "    <tr>\n",
              "      <th>...</th>\n",
              "      <td>...</td>\n",
              "      <td>...</td>\n",
              "      <td>...</td>\n",
              "      <td>...</td>\n",
              "      <td>...</td>\n",
              "      <td>...</td>\n",
              "    </tr>\n",
              "    <tr>\n",
              "      <th>244285</th>\n",
              "      <td>404284</td>\n",
              "      <td>537926</td>\n",
              "      <td>537927</td>\n",
              "      <td>What does Jainism say about homosexuality?</td>\n",
              "      <td>What does Jainism say about Gays and Homosexua...</td>\n",
              "      <td>1</td>\n",
              "    </tr>\n",
              "    <tr>\n",
              "      <th>244286</th>\n",
              "      <td>404285</td>\n",
              "      <td>433578</td>\n",
              "      <td>379845</td>\n",
              "      <td>How many keywords are there in the Racket prog...</td>\n",
              "      <td>How many keywords are there in PERL Programmin...</td>\n",
              "      <td>0</td>\n",
              "    </tr>\n",
              "    <tr>\n",
              "      <th>244287</th>\n",
              "      <td>404286</td>\n",
              "      <td>18840</td>\n",
              "      <td>155606</td>\n",
              "      <td>Do you believe there is life after death?</td>\n",
              "      <td>Is it true that there is life after death?</td>\n",
              "      <td>1</td>\n",
              "    </tr>\n",
              "    <tr>\n",
              "      <th>244288</th>\n",
              "      <td>404288</td>\n",
              "      <td>537930</td>\n",
              "      <td>537931</td>\n",
              "      <td>What is the approx annual cost of living while...</td>\n",
              "      <td>I am having little hairfall problem but I want...</td>\n",
              "      <td>0</td>\n",
              "    </tr>\n",
              "    <tr>\n",
              "      <th>244289</th>\n",
              "      <td>404289</td>\n",
              "      <td>537932</td>\n",
              "      <td>537933</td>\n",
              "      <td>What is like to have sex with cousin?</td>\n",
              "      <td>What is it like to have sex with your cousin?</td>\n",
              "      <td>0</td>\n",
              "    </tr>\n",
              "  </tbody>\n",
              "</table>\n",
              "<p>244290 rows × 6 columns</p>\n",
              "</div>"
            ],
            "text/plain": [
              "            id  ...  is_duplicate\n",
              "0            1  ...             0\n",
              "1            2  ...             0\n",
              "2            4  ...             0\n",
              "3            5  ...             1\n",
              "4            8  ...             0\n",
              "...        ...  ...           ...\n",
              "244285  404284  ...             1\n",
              "244286  404285  ...             0\n",
              "244287  404286  ...             1\n",
              "244288  404288  ...             0\n",
              "244289  404289  ...             0\n",
              "\n",
              "[244290 rows x 6 columns]"
            ]
          },
          "metadata": {
            "tags": []
          },
          "execution_count": 4
        }
      ]
    },
    {
      "cell_type": "code",
      "metadata": {
        "colab": {
          "base_uri": "https://localhost:8080/",
          "height": 422
        },
        "id": "aWUOyMUs8O0x",
        "outputId": "c69f00dd-49d5-4e29-d536-82f4328c3e3f"
      },
      "source": [
        "dev = pd.read_csv(\"/content/gdrive/MyDrive/[]Nhan Dang/Question-Similarity/Quora dataset/dev.csv\")\n",
        "dev['question1'] = dev['question1'].apply(lambda x: str(x))\n",
        "dev['question2'] = dev['question2'].apply(lambda x: str(x))\n",
        "dev"
      ],
      "execution_count": null,
      "outputs": [
        {
          "output_type": "execute_result",
          "data": {
            "text/html": [
              "<div>\n",
              "<style scoped>\n",
              "    .dataframe tbody tr th:only-of-type {\n",
              "        vertical-align: middle;\n",
              "    }\n",
              "\n",
              "    .dataframe tbody tr th {\n",
              "        vertical-align: top;\n",
              "    }\n",
              "\n",
              "    .dataframe thead th {\n",
              "        text-align: right;\n",
              "    }\n",
              "</style>\n",
              "<table border=\"1\" class=\"dataframe\">\n",
              "  <thead>\n",
              "    <tr style=\"text-align: right;\">\n",
              "      <th></th>\n",
              "      <th>id</th>\n",
              "      <th>qid1</th>\n",
              "      <th>qid2</th>\n",
              "      <th>question1</th>\n",
              "      <th>question2</th>\n",
              "      <th>is_duplicate</th>\n",
              "    </tr>\n",
              "  </thead>\n",
              "  <tbody>\n",
              "    <tr>\n",
              "      <th>0</th>\n",
              "      <td>340617</td>\n",
              "      <td>468377</td>\n",
              "      <td>468378</td>\n",
              "      <td>How do you know if a lightning strikes your ho...</td>\n",
              "      <td>How often does lightning strike the Eiffel Tower?</td>\n",
              "      <td>0</td>\n",
              "    </tr>\n",
              "    <tr>\n",
              "      <th>1</th>\n",
              "      <td>89072</td>\n",
              "      <td>149711</td>\n",
              "      <td>149712</td>\n",
              "      <td>Are facials good or bad for your skin?</td>\n",
              "      <td>Are back facials good for your skin?</td>\n",
              "      <td>0</td>\n",
              "    </tr>\n",
              "    <tr>\n",
              "      <th>2</th>\n",
              "      <td>270535</td>\n",
              "      <td>388449</td>\n",
              "      <td>140381</td>\n",
              "      <td>What are Bust Rhymes fastest raps?</td>\n",
              "      <td>What does RAP mean?</td>\n",
              "      <td>0</td>\n",
              "    </tr>\n",
              "    <tr>\n",
              "      <th>3</th>\n",
              "      <td>66193</td>\n",
              "      <td>114771</td>\n",
              "      <td>114772</td>\n",
              "      <td>What's the funniest conversation you've overhe...</td>\n",
              "      <td>What is the funniest conversation you overheard?</td>\n",
              "      <td>1</td>\n",
              "    </tr>\n",
              "    <tr>\n",
              "      <th>4</th>\n",
              "      <td>197370</td>\n",
              "      <td>257850</td>\n",
              "      <td>108173</td>\n",
              "      <td>What is the best book to learn c#?</td>\n",
              "      <td>What are the best books to learn c programing ...</td>\n",
              "      <td>1</td>\n",
              "    </tr>\n",
              "    <tr>\n",
              "      <th>...</th>\n",
              "      <td>...</td>\n",
              "      <td>...</td>\n",
              "      <td>...</td>\n",
              "      <td>...</td>\n",
              "      <td>...</td>\n",
              "      <td>...</td>\n",
              "    </tr>\n",
              "    <tr>\n",
              "      <th>79995</th>\n",
              "      <td>380953</td>\n",
              "      <td>512628</td>\n",
              "      <td>512629</td>\n",
              "      <td>What should you do if a person whom you love i...</td>\n",
              "      <td>What will be the future of ssc offier in iaf a...</td>\n",
              "      <td>0</td>\n",
              "    </tr>\n",
              "    <tr>\n",
              "      <th>79996</th>\n",
              "      <td>296654</td>\n",
              "      <td>418894</td>\n",
              "      <td>418895</td>\n",
              "      <td>Is it possible to flash a custom ROM without r...</td>\n",
              "      <td>How can I run Kali Linux on the Android device...</td>\n",
              "      <td>0</td>\n",
              "    </tr>\n",
              "    <tr>\n",
              "      <th>79997</th>\n",
              "      <td>203503</td>\n",
              "      <td>306150</td>\n",
              "      <td>306151</td>\n",
              "      <td>The education system is outdated. What would y...</td>\n",
              "      <td>If you had the power to make one change in pub...</td>\n",
              "      <td>0</td>\n",
              "    </tr>\n",
              "    <tr>\n",
              "      <th>79998</th>\n",
              "      <td>365150</td>\n",
              "      <td>495250</td>\n",
              "      <td>495251</td>\n",
              "      <td>How does the sound quality differ when listeni...</td>\n",
              "      <td>Would playing a vintage mono record on a stere...</td>\n",
              "      <td>0</td>\n",
              "    </tr>\n",
              "    <tr>\n",
              "      <th>79999</th>\n",
              "      <td>196104</td>\n",
              "      <td>296732</td>\n",
              "      <td>296733</td>\n",
              "      <td>Why are so many people on Quora from Silicon V...</td>\n",
              "      <td>Why are so many people in Quora in/are from Si...</td>\n",
              "      <td>1</td>\n",
              "    </tr>\n",
              "  </tbody>\n",
              "</table>\n",
              "<p>80000 rows × 6 columns</p>\n",
              "</div>"
            ],
            "text/plain": [
              "           id  ...  is_duplicate\n",
              "0      340617  ...             0\n",
              "1       89072  ...             0\n",
              "2      270535  ...             0\n",
              "3       66193  ...             1\n",
              "4      197370  ...             1\n",
              "...       ...  ...           ...\n",
              "79995  380953  ...             0\n",
              "79996  296654  ...             0\n",
              "79997  203503  ...             0\n",
              "79998  365150  ...             0\n",
              "79999  196104  ...             1\n",
              "\n",
              "[80000 rows x 6 columns]"
            ]
          },
          "metadata": {
            "tags": []
          },
          "execution_count": 10
        }
      ]
    },
    {
      "cell_type": "code",
      "metadata": {
        "colab": {
          "base_uri": "https://localhost:8080/",
          "height": 422
        },
        "id": "7baMZNzg8VOW",
        "outputId": "aacae769-c186-4d19-a144-59874533b9bf"
      },
      "source": [
        "test = pd.read_csv(\"/content/gdrive/MyDrive/[]Nhan Dang/Question-Similarity/Quora dataset/test.csv\")\n",
        "test"
      ],
      "execution_count": null,
      "outputs": [
        {
          "output_type": "execute_result",
          "data": {
            "text/html": [
              "<div>\n",
              "<style scoped>\n",
              "    .dataframe tbody tr th:only-of-type {\n",
              "        vertical-align: middle;\n",
              "    }\n",
              "\n",
              "    .dataframe tbody tr th {\n",
              "        vertical-align: top;\n",
              "    }\n",
              "\n",
              "    .dataframe thead th {\n",
              "        text-align: right;\n",
              "    }\n",
              "</style>\n",
              "<table border=\"1\" class=\"dataframe\">\n",
              "  <thead>\n",
              "    <tr style=\"text-align: right;\">\n",
              "      <th></th>\n",
              "      <th>id</th>\n",
              "      <th>qid1</th>\n",
              "      <th>qid2</th>\n",
              "      <th>question1</th>\n",
              "      <th>question2</th>\n",
              "      <th>is_duplicate</th>\n",
              "    </tr>\n",
              "  </thead>\n",
              "  <tbody>\n",
              "    <tr>\n",
              "      <th>0</th>\n",
              "      <td>96431</td>\n",
              "      <td>160631</td>\n",
              "      <td>17921</td>\n",
              "      <td>What's the best time to visit Bermuda?</td>\n",
              "      <td>What are some of the most amazing places to vi...</td>\n",
              "      <td>0</td>\n",
              "    </tr>\n",
              "    <tr>\n",
              "      <th>1</th>\n",
              "      <td>112142</td>\n",
              "      <td>183533</td>\n",
              "      <td>183534</td>\n",
              "      <td>Can the value of oil ETF USO can go to zero?</td>\n",
              "      <td>I started programming 4 years ago. But recentl...</td>\n",
              "      <td>0</td>\n",
              "    </tr>\n",
              "    <tr>\n",
              "      <th>2</th>\n",
              "      <td>264650</td>\n",
              "      <td>336711</td>\n",
              "      <td>381462</td>\n",
              "      <td>Can I charge my phone with a charger that outp...</td>\n",
              "      <td>Can I charge my phone with a charger that outp...</td>\n",
              "      <td>1</td>\n",
              "    </tr>\n",
              "    <tr>\n",
              "      <th>3</th>\n",
              "      <td>209773</td>\n",
              "      <td>314137</td>\n",
              "      <td>314138</td>\n",
              "      <td>What if Gohan entered the Hyperbolic Time Cham...</td>\n",
              "      <td>What if Gohan had went in with Goten in the hy...</td>\n",
              "      <td>1</td>\n",
              "    </tr>\n",
              "    <tr>\n",
              "      <th>4</th>\n",
              "      <td>65399</td>\n",
              "      <td>113510</td>\n",
              "      <td>113511</td>\n",
              "      <td>What's the difference between Super AMOLED and...</td>\n",
              "      <td>Where can I get a custom AMOLED screen made?</td>\n",
              "      <td>0</td>\n",
              "    </tr>\n",
              "    <tr>\n",
              "      <th>...</th>\n",
              "      <td>...</td>\n",
              "      <td>...</td>\n",
              "      <td>...</td>\n",
              "      <td>...</td>\n",
              "      <td>...</td>\n",
              "      <td>...</td>\n",
              "    </tr>\n",
              "    <tr>\n",
              "      <th>79995</th>\n",
              "      <td>324578</td>\n",
              "      <td>450698</td>\n",
              "      <td>181669</td>\n",
              "      <td>Which is the best smartphone by look under Rs ...</td>\n",
              "      <td>What's the best stock android smartphone under...</td>\n",
              "      <td>1</td>\n",
              "    </tr>\n",
              "    <tr>\n",
              "      <th>79996</th>\n",
              "      <td>93202</td>\n",
              "      <td>155887</td>\n",
              "      <td>155888</td>\n",
              "      <td>I often know exactly what people are going to ...</td>\n",
              "      <td>What are the exact jobs available for mechatro...</td>\n",
              "      <td>0</td>\n",
              "    </tr>\n",
              "    <tr>\n",
              "      <th>79997</th>\n",
              "      <td>327117</td>\n",
              "      <td>304782</td>\n",
              "      <td>453505</td>\n",
              "      <td>Is Gary Vaynerchuk worth listening to when his...</td>\n",
              "      <td>What is Rob Gronkowski's net worth? Is it all ...</td>\n",
              "      <td>0</td>\n",
              "    </tr>\n",
              "    <tr>\n",
              "      <th>79998</th>\n",
              "      <td>351069</td>\n",
              "      <td>479881</td>\n",
              "      <td>479882</td>\n",
              "      <td>How do you find out if there are free 24 hour ...</td>\n",
              "      <td>What is a good 24-hour legal advice hotline?</td>\n",
              "      <td>0</td>\n",
              "    </tr>\n",
              "    <tr>\n",
              "      <th>79999</th>\n",
              "      <td>237939</td>\n",
              "      <td>349191</td>\n",
              "      <td>142306</td>\n",
              "      <td>What are the strongest majors in terms of job ...</td>\n",
              "      <td>What are the strongest majors in terms of job ...</td>\n",
              "      <td>0</td>\n",
              "    </tr>\n",
              "  </tbody>\n",
              "</table>\n",
              "<p>80000 rows × 6 columns</p>\n",
              "</div>"
            ],
            "text/plain": [
              "           id  ...  is_duplicate\n",
              "0       96431  ...             0\n",
              "1      112142  ...             0\n",
              "2      264650  ...             1\n",
              "3      209773  ...             1\n",
              "4       65399  ...             0\n",
              "...       ...  ...           ...\n",
              "79995  324578  ...             1\n",
              "79996   93202  ...             0\n",
              "79997  327117  ...             0\n",
              "79998  351069  ...             0\n",
              "79999  237939  ...             0\n",
              "\n",
              "[80000 rows x 6 columns]"
            ]
          },
          "metadata": {
            "tags": []
          },
          "execution_count": 7
        }
      ]
    },
    {
      "cell_type": "code",
      "metadata": {
        "id": "9PxtF9x08ZlE"
      },
      "source": [
        "corpus = train['question1'].to_list() + train['question2'].to_list()"
      ],
      "execution_count": null,
      "outputs": []
    },
    {
      "cell_type": "code",
      "metadata": {
        "id": "o9db5AL_8kll"
      },
      "source": [
        "from sklearn.feature_extraction.text import TfidfVectorizer"
      ],
      "execution_count": null,
      "outputs": []
    },
    {
      "cell_type": "code",
      "metadata": {
        "colab": {
          "base_uri": "https://localhost:8080/"
        },
        "id": "LNHwyIKA8sFp",
        "outputId": "262390e9-7c4e-46db-e685-0497558e98e4"
      },
      "source": [
        "vect = TfidfVectorizer(min_df=1, stop_words=\"english\")                                                                                                                                                                                                   \n",
        "vect.fit(corpus)                                                                                                                                                                                                                       "
      ],
      "execution_count": null,
      "outputs": [
        {
          "output_type": "execute_result",
          "data": {
            "text/plain": [
              "TfidfVectorizer(analyzer='word', binary=False, decode_error='strict',\n",
              "                dtype=<class 'numpy.float64'>, encoding='utf-8',\n",
              "                input='content', lowercase=True, max_df=1.0, max_features=None,\n",
              "                min_df=1, ngram_range=(1, 1), norm='l2', preprocessor=None,\n",
              "                smooth_idf=True, stop_words='english', strip_accents=None,\n",
              "                sublinear_tf=False, token_pattern='(?u)\\\\b\\\\w\\\\w+\\\\b',\n",
              "                tokenizer=None, use_idf=True, vocabulary=None)"
            ]
          },
          "metadata": {
            "tags": []
          },
          "execution_count": 9
        }
      ]
    },
    {
      "cell_type": "code",
      "metadata": {
        "id": "tvXQvyFV95Vh"
      },
      "source": [
        "corpus_train1 = train['question1'].to_list()\n",
        "corpus_train2 = train['question2'].to_list()"
      ],
      "execution_count": null,
      "outputs": []
    },
    {
      "cell_type": "code",
      "metadata": {
        "id": "x5J-YrFj83AH"
      },
      "source": [
        "tfidf_train1 = vect.transform(corpus_train1)\n",
        "tfidf_train2 = vect.transform(corpus_train2)\n",
        "pairwaise_train = tfidf_train1 * tfidf_train2.T"
      ],
      "execution_count": null,
      "outputs": []
    },
    {
      "cell_type": "code",
      "metadata": {
        "id": "NuYJGbao_x3N"
      },
      "source": [
        "train_similarity = []\n",
        "for i, s1 in enumerate(corpus_train1):\n",
        "  s2 = corpus_train2[i]\n",
        "  tfidf = vect.transform([s1, s2])\n",
        "  train_similarity.append((tfidf*tfidf.T).toarray()[0][1])"
      ],
      "execution_count": null,
      "outputs": []
    },
    {
      "cell_type": "code",
      "metadata": {
        "id": "4mYi_9iyFYBT"
      },
      "source": [
        "import seaborn as sns"
      ],
      "execution_count": null,
      "outputs": []
    },
    {
      "cell_type": "code",
      "metadata": {
        "id": "UXD1jsXAF9ti"
      },
      "source": [
        "from sklearn.metrics import accuracy_score, f1_score"
      ],
      "execution_count": null,
      "outputs": []
    },
    {
      "cell_type": "code",
      "metadata": {
        "colab": {
          "base_uri": "https://localhost:8080/",
          "height": 296
        },
        "id": "42s2VgAlDabi",
        "outputId": "7db08040-3f52-48a9-ec08-bb0d5fdd46c2"
      },
      "source": [
        "dev_df = pd.DataFrame(columns=['similarity', 'is_duplicate'])\n",
        "dev_df['similarity'] = dev_similarity\n",
        "dev_df['is_duplicate'] = dev['is_duplicate']\n",
        "sns.scatterplot(data=dev_df, x='similarity', y = 'similarity', hue='is_duplicate')"
      ],
      "execution_count": null,
      "outputs": [
        {
          "output_type": "execute_result",
          "data": {
            "text/plain": [
              "<matplotlib.axes._subplots.AxesSubplot at 0x7fde5b5151d0>"
            ]
          },
          "metadata": {
            "tags": []
          },
          "execution_count": 15
        },
        {
          "output_type": "display_data",
          "data": {
            "image/png": "[encoded data removed]",
            "text/plain": [
              "<Figure size 432x288 with 1 Axes>"
            ]
          },
          "metadata": {
            "tags": [],
            "needs_background": "light"
          }
        }
      ]
    },
    {
      "cell_type": "code",
      "metadata": {
        "id": "TX5nQXsIsK3i"
      },
      "source": [
        "ensemble_train['tfidf'] = train_similarity\n",
        "ensemble_train.to_csv(\"/content/gdrive/MyDrive/[]Nhan Dang/Question-Similarity/ensemble_train.csv\", index=False)"
      ],
      "execution_count": null,
      "outputs": []
    },
    {
      "cell_type": "code",
      "metadata": {
        "colab": {
          "base_uri": "https://localhost:8080/",
          "height": 507
        },
        "id": "AygAE6_ItGjD",
        "outputId": "e1f0a605-9843-4013-97ca-ccaa28e72608"
      },
      "source": [
        "train = pd.read_csv(\"/content/gdrive/MyDrive/[]Nhan Dang/Question-Similarity/ensemble_train.csv\")\n",
        "train"
      ],
      "execution_count": null,
      "outputs": [
        {
          "output_type": "execute_result",
          "data": {
            "text/html": [
              "<div>\n",
              "<style scoped>\n",
              "    .dataframe tbody tr th:only-of-type {\n",
              "        vertical-align: middle;\n",
              "    }\n",
              "\n",
              "    .dataframe tbody tr th {\n",
              "        vertical-align: top;\n",
              "    }\n",
              "\n",
              "    .dataframe thead th {\n",
              "        text-align: right;\n",
              "    }\n",
              "</style>\n",
              "<table border=\"1\" class=\"dataframe\">\n",
              "  <thead>\n",
              "    <tr style=\"text-align: right;\">\n",
              "      <th></th>\n",
              "      <th>distilbert-base-nli-stsb-quora-ranking</th>\n",
              "      <th>paraphrase-distilroberta-base-v2</th>\n",
              "      <th>paraphrase-mpnet-base-v2</th>\n",
              "      <th>paraphrase-MiniLM-L12-v2</th>\n",
              "      <th>nli-mpnet-base-v2</th>\n",
              "      <th>is_duplicate</th>\n",
              "      <th>paraphrase-TinyBERT-L6-v2</th>\n",
              "      <th>paraphrase-MiniLM-L6-v2</th>\n",
              "      <th>stsb-mpnet-base-v2</th>\n",
              "      <th>distiluse-base-multilingual-cased-v1</th>\n",
              "      <th>stsb-distilroberta-base-v2</th>\n",
              "      <th>nli-roberta-base-v2</th>\n",
              "      <th>stsb-roberta-base-v2</th>\n",
              "      <th>nli-distilroberta-base-v2</th>\n",
              "      <th>distiluse-base-multilingual-cased-v2</th>\n",
              "      <th>average_word_embeddings_komninos</th>\n",
              "      <th>average_word_embeddings_glove.6B.300d</th>\n",
              "      <th>average_word_embeddings_levy_dependency</th>\n",
              "      <th>tfidf</th>\n",
              "    </tr>\n",
              "  </thead>\n",
              "  <tbody>\n",
              "    <tr>\n",
              "      <th>0</th>\n",
              "      <td>0.696001</td>\n",
              "      <td>0.573700</td>\n",
              "      <td>0.569865</td>\n",
              "      <td>0.528683</td>\n",
              "      <td>0.593448</td>\n",
              "      <td>0</td>\n",
              "      <td>0.677278</td>\n",
              "      <td>0.576335</td>\n",
              "      <td>0.726059</td>\n",
              "      <td>0.584884</td>\n",
              "      <td>0.593941</td>\n",
              "      <td>0.588562</td>\n",
              "      <td>0.599323</td>\n",
              "      <td>0.607856</td>\n",
              "      <td>0.610290</td>\n",
              "      <td>0.874871</td>\n",
              "      <td>0.651956</td>\n",
              "      <td>0.818624</td>\n",
              "      <td>0.790132</td>\n",
              "    </tr>\n",
              "    <tr>\n",
              "      <th>1</th>\n",
              "      <td>0.644232</td>\n",
              "      <td>0.580639</td>\n",
              "      <td>0.639119</td>\n",
              "      <td>0.665531</td>\n",
              "      <td>0.751989</td>\n",
              "      <td>0</td>\n",
              "      <td>0.586621</td>\n",
              "      <td>0.690827</td>\n",
              "      <td>0.705231</td>\n",
              "      <td>0.794581</td>\n",
              "      <td>0.603158</td>\n",
              "      <td>0.676315</td>\n",
              "      <td>0.562753</td>\n",
              "      <td>0.671447</td>\n",
              "      <td>0.737434</td>\n",
              "      <td>0.847067</td>\n",
              "      <td>0.809579</td>\n",
              "      <td>0.877216</td>\n",
              "      <td>0.274691</td>\n",
              "    </tr>\n",
              "    <tr>\n",
              "      <th>2</th>\n",
              "      <td>0.524185</td>\n",
              "      <td>0.329884</td>\n",
              "      <td>0.357737</td>\n",
              "      <td>0.372725</td>\n",
              "      <td>0.381514</td>\n",
              "      <td>0</td>\n",
              "      <td>0.424391</td>\n",
              "      <td>0.375748</td>\n",
              "      <td>0.401750</td>\n",
              "      <td>0.474788</td>\n",
              "      <td>0.397911</td>\n",
              "      <td>0.373088</td>\n",
              "      <td>0.251338</td>\n",
              "      <td>0.409317</td>\n",
              "      <td>0.493282</td>\n",
              "      <td>0.768955</td>\n",
              "      <td>0.676888</td>\n",
              "      <td>0.774744</td>\n",
              "      <td>0.243344</td>\n",
              "    </tr>\n",
              "    <tr>\n",
              "      <th>3</th>\n",
              "      <td>0.797487</td>\n",
              "      <td>0.821957</td>\n",
              "      <td>0.829856</td>\n",
              "      <td>0.820814</td>\n",
              "      <td>0.842494</td>\n",
              "      <td>1</td>\n",
              "      <td>0.817135</td>\n",
              "      <td>0.840911</td>\n",
              "      <td>0.829541</td>\n",
              "      <td>0.864448</td>\n",
              "      <td>0.762922</td>\n",
              "      <td>0.806959</td>\n",
              "      <td>0.720074</td>\n",
              "      <td>0.800717</td>\n",
              "      <td>0.892830</td>\n",
              "      <td>0.819618</td>\n",
              "      <td>0.741882</td>\n",
              "      <td>0.874276</td>\n",
              "      <td>0.487620</td>\n",
              "    </tr>\n",
              "    <tr>\n",
              "      <th>4</th>\n",
              "      <td>0.405980</td>\n",
              "      <td>0.222970</td>\n",
              "      <td>0.268923</td>\n",
              "      <td>0.360277</td>\n",
              "      <td>0.774101</td>\n",
              "      <td>0</td>\n",
              "      <td>0.167811</td>\n",
              "      <td>0.321182</td>\n",
              "      <td>0.502594</td>\n",
              "      <td>0.712492</td>\n",
              "      <td>0.448202</td>\n",
              "      <td>0.754384</td>\n",
              "      <td>0.560354</td>\n",
              "      <td>0.657452</td>\n",
              "      <td>0.730754</td>\n",
              "      <td>1.000000</td>\n",
              "      <td>1.000000</td>\n",
              "      <td>1.000001</td>\n",
              "      <td>1.000000</td>\n",
              "    </tr>\n",
              "    <tr>\n",
              "      <th>...</th>\n",
              "      <td>...</td>\n",
              "      <td>...</td>\n",
              "      <td>...</td>\n",
              "      <td>...</td>\n",
              "      <td>...</td>\n",
              "      <td>...</td>\n",
              "      <td>...</td>\n",
              "      <td>...</td>\n",
              "      <td>...</td>\n",
              "      <td>...</td>\n",
              "      <td>...</td>\n",
              "      <td>...</td>\n",
              "      <td>...</td>\n",
              "      <td>...</td>\n",
              "      <td>...</td>\n",
              "      <td>...</td>\n",
              "      <td>...</td>\n",
              "      <td>...</td>\n",
              "      <td>...</td>\n",
              "    </tr>\n",
              "    <tr>\n",
              "      <th>244285</th>\n",
              "      <td>0.968404</td>\n",
              "      <td>0.924721</td>\n",
              "      <td>0.971645</td>\n",
              "      <td>0.958220</td>\n",
              "      <td>0.975229</td>\n",
              "      <td>1</td>\n",
              "      <td>0.961037</td>\n",
              "      <td>0.956967</td>\n",
              "      <td>0.970600</td>\n",
              "      <td>0.964372</td>\n",
              "      <td>0.863011</td>\n",
              "      <td>0.903813</td>\n",
              "      <td>0.903206</td>\n",
              "      <td>0.898462</td>\n",
              "      <td>0.965878</td>\n",
              "      <td>0.950473</td>\n",
              "      <td>0.927411</td>\n",
              "      <td>0.965316</td>\n",
              "      <td>0.811930</td>\n",
              "    </tr>\n",
              "    <tr>\n",
              "      <th>244286</th>\n",
              "      <td>0.567139</td>\n",
              "      <td>0.586432</td>\n",
              "      <td>0.591516</td>\n",
              "      <td>0.550486</td>\n",
              "      <td>0.757204</td>\n",
              "      <td>0</td>\n",
              "      <td>0.686659</td>\n",
              "      <td>0.557353</td>\n",
              "      <td>0.557772</td>\n",
              "      <td>0.854385</td>\n",
              "      <td>0.636474</td>\n",
              "      <td>0.811767</td>\n",
              "      <td>0.604400</td>\n",
              "      <td>0.828141</td>\n",
              "      <td>0.882678</td>\n",
              "      <td>0.946330</td>\n",
              "      <td>0.906133</td>\n",
              "      <td>0.958616</td>\n",
              "      <td>0.693523</td>\n",
              "    </tr>\n",
              "    <tr>\n",
              "      <th>244287</th>\n",
              "      <td>0.952039</td>\n",
              "      <td>0.947387</td>\n",
              "      <td>0.922788</td>\n",
              "      <td>0.910906</td>\n",
              "      <td>0.922571</td>\n",
              "      <td>1</td>\n",
              "      <td>0.928489</td>\n",
              "      <td>0.914483</td>\n",
              "      <td>0.924535</td>\n",
              "      <td>0.909789</td>\n",
              "      <td>0.923433</td>\n",
              "      <td>0.938677</td>\n",
              "      <td>0.931787</td>\n",
              "      <td>0.924841</td>\n",
              "      <td>0.887078</td>\n",
              "      <td>0.872990</td>\n",
              "      <td>0.941845</td>\n",
              "      <td>0.847171</td>\n",
              "      <td>0.631680</td>\n",
              "    </tr>\n",
              "    <tr>\n",
              "      <th>244288</th>\n",
              "      <td>0.279280</td>\n",
              "      <td>0.014479</td>\n",
              "      <td>0.007940</td>\n",
              "      <td>-0.103434</td>\n",
              "      <td>0.076680</td>\n",
              "      <td>0</td>\n",
              "      <td>-0.016502</td>\n",
              "      <td>-0.132550</td>\n",
              "      <td>0.040603</td>\n",
              "      <td>0.143299</td>\n",
              "      <td>-0.007328</td>\n",
              "      <td>0.065641</td>\n",
              "      <td>0.044847</td>\n",
              "      <td>0.063082</td>\n",
              "      <td>0.081014</td>\n",
              "      <td>0.545603</td>\n",
              "      <td>0.348115</td>\n",
              "      <td>0.621314</td>\n",
              "      <td>0.000000</td>\n",
              "    </tr>\n",
              "    <tr>\n",
              "      <th>244289</th>\n",
              "      <td>0.953485</td>\n",
              "      <td>0.967966</td>\n",
              "      <td>0.971425</td>\n",
              "      <td>0.939875</td>\n",
              "      <td>0.977907</td>\n",
              "      <td>0</td>\n",
              "      <td>0.949640</td>\n",
              "      <td>0.952352</td>\n",
              "      <td>0.975442</td>\n",
              "      <td>0.970112</td>\n",
              "      <td>0.976830</td>\n",
              "      <td>0.987010</td>\n",
              "      <td>0.986750</td>\n",
              "      <td>0.981955</td>\n",
              "      <td>0.970635</td>\n",
              "      <td>1.000000</td>\n",
              "      <td>1.000000</td>\n",
              "      <td>0.999999</td>\n",
              "      <td>1.000000</td>\n",
              "    </tr>\n",
              "  </tbody>\n",
              "</table>\n",
              "<p>244290 rows × 19 columns</p>\n",
              "</div>"
            ],
            "text/plain": [
              "        distilbert-base-nli-stsb-quora-ranking  ...     tfidf\n",
              "0                                     0.696001  ...  0.790132\n",
              "1                                     0.644232  ...  0.274691\n",
              "2                                     0.524185  ...  0.243344\n",
              "3                                     0.797487  ...  0.487620\n",
              "4                                     0.405980  ...  1.000000\n",
              "...                                        ...  ...       ...\n",
              "244285                                0.968404  ...  0.811930\n",
              "244286                                0.567139  ...  0.693523\n",
              "244287                                0.952039  ...  0.631680\n",
              "244288                                0.279280  ...  0.000000\n",
              "244289                                0.953485  ...  1.000000\n",
              "\n",
              "[244290 rows x 19 columns]"
            ]
          },
          "metadata": {
            "tags": []
          },
          "execution_count": 28
        }
      ]
    },
    {
      "cell_type": "code",
      "metadata": {
        "colab": {
          "base_uri": "https://localhost:8080/"
        },
        "id": "kpCDgHAdE-SV",
        "outputId": "99709898-4e48-4a62-bc79-9f520b1fadf9"
      },
      "source": [
        "u_tmp =0.0\n",
        "f1_max = 0\n",
        "while u_tmp<=1.0:\n",
        "  predict = []\n",
        "  for s in dev_df['similarity']:\n",
        "    if s<u_tmp: predict.append(0)\n",
        "    else: predict.append(1)\n",
        "  f1_ = f1_score(dev_df['is_duplicate'], predict)\n",
        "  if f1_>f1_max:\n",
        "    f1_max = f1_score(dev_df['is_duplicate'], predict)\n",
        "    acc = accuracy_score(dev_df['is_duplicate'], predict)\n",
        "    u = u_tmp\n",
        "  u_tmp += 0.01\n",
        "print(u)\n",
        "print(f1_max)\n",
        "print(acc)"
      ],
      "execution_count": null,
      "outputs": [
        {
          "output_type": "stream",
          "text": [
            "0.36000000000000015\n",
            "0.6226159011357955\n",
            "0.603775\n"
          ],
          "name": "stdout"
        }
      ]
    },
    {
      "cell_type": "code",
      "metadata": {
        "id": "prs2y7ShGWLd"
      },
      "source": [
        "corpus_test1 = test['question1'].apply(lambda x: str(x)).to_list()\n",
        "corpus_test2 = test['question2'].apply(lambda x: str(x)).to_list()"
      ],
      "execution_count": null,
      "outputs": []
    },
    {
      "cell_type": "code",
      "metadata": {
        "id": "ALe8iGZCI9RQ"
      },
      "source": [
        "test_similarity = []\n",
        "for i, s1 in enumerate(corpus_test1):\n",
        "  s2 = corpus_test2[i]\n",
        "  tfidf = vect.transform([s1, s2])\n",
        "  test_similarity.append((tfidf*tfidf.T).toarray()[0][1])"
      ],
      "execution_count": null,
      "outputs": []
    },
    {
      "cell_type": "code",
      "metadata": {
        "colab": {
          "base_uri": "https://localhost:8080/",
          "height": 296
        },
        "id": "LF8xlm2hJH2L",
        "outputId": "c970c813-189f-49e1-f31c-1ca44b61ef6c"
      },
      "source": [
        "test_df = pd.DataFrame(columns=['similarity', 'is_duplicate'])\n",
        "test_df['similarity'] = test_similarity\n",
        "test_df['is_duplicate'] = test['is_duplicate']\n",
        "sns.scatterplot(data=test_df, x='similarity', y = 'similarity', hue='is_duplicate')"
      ],
      "execution_count": null,
      "outputs": [
        {
          "output_type": "execute_result",
          "data": {
            "text/plain": [
              "<matplotlib.axes._subplots.AxesSubplot at 0x7efd0c417890>"
            ]
          },
          "metadata": {
            "tags": []
          },
          "execution_count": 36
        },
        {
          "output_type": "display_data",
          "data": {
            "image/png": "[encoded data removed]",
            "text/plain": [
              "<Figure size 432x288 with 1 Axes>"
            ]
          },
          "metadata": {
            "tags": [],
            "needs_background": "light"
          }
        }
      ]
    },
    {
      "cell_type": "code",
      "metadata": {
        "colab": {
          "base_uri": "https://localhost:8080/"
        },
        "id": "nZ_C9dlfKBxa",
        "outputId": "48501b39-4dfc-4ca5-957d-668f08482a7b"
      },
      "source": [
        "predict = []\n",
        "for s in ensemble_dev['tfidf']:\n",
        "    if s<0.36: predict.append(0)\n",
        "    else: predict.append(1)\n",
        "print(f1_score(dev['is_duplicate'], predict))\n",
        "print(accuracy_score(dev['is_duplicate'], predict))\n",
        "print(f1_score(dev['is_duplicate'], predict, average='weighted'))"
      ],
      "execution_count": null,
      "outputs": [
        {
          "output_type": "stream",
          "text": [
            "0.6226159011357955\n",
            "0.603775\n",
            "0.5975148610993425\n"
          ],
          "name": "stdout"
        }
      ]
    },
    {
      "cell_type": "code",
      "metadata": {
        "id": "nrEVuNtfKnVW"
      },
      "source": [
        "ensemble_test['tfidf'] = test_similarity\n",
        "ensemble_test.to_csv(\"/content/gdrive/MyDrive/[]Nhan Dang/Question-Similarity/ensemble_test.csv\", index=False)"
      ],
      "execution_count": null,
      "outputs": []
    },
    {
      "cell_type": "code",
      "metadata": {
        "id": "tT9KntR7ou97"
      },
      "source": [
        ""
      ],
      "execution_count": null,
      "outputs": []
    }
  ]
}